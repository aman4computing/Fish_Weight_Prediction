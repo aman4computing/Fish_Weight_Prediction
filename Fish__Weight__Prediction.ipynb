{
  "nbformat": 4,
  "nbformat_minor": 0,
  "metadata": {
    "colab": {
      "provenance": []
    },
    "kernelspec": {
      "name": "python3",
      "display_name": "Python 3"
    },
    "language_info": {
      "name": "python"
    }
  },
  "cells": [
    {
      "cell_type": "markdown",
      "source": [
        "**Fish Weight Prediction using various ML Models and comparison of them**\n",
        "\n",
        "**Dataset_link: https://www.kaggle.com/datasets/aungpyaeap/fish-market**"
      ],
      "metadata": {
        "id": "c0voZuQXvSoq"
      }
    },
    {
      "cell_type": "markdown",
      "source": [
        "**Step 1: Importing Libraries**"
      ],
      "metadata": {
        "id": "ogTHxotZpH6f"
      }
    },
    {
      "cell_type": "code",
      "execution_count": 1,
      "metadata": {
        "id": "Dhxt-N75p5aY"
      },
      "outputs": [],
      "source": [
        "import pandas as pd\n",
        "import numpy as np\n",
        "import seaborn as sns\n",
        "import matplotlib.pyplot as plt\n",
        "from sklearn.model_selection import train_test_split\n",
        "from sklearn.tree import DecisionTreeRegressor, plot_tree\n",
        "from sklearn.metrics import mean_squared_error, r2_score, mean_absolute_error\n",
        "from sklearn.feature_selection import RFE\n",
        "from sklearn.preprocessing import LabelEncoder, OneHotEncoder, MinMaxScaler"
      ]
    },
    {
      "cell_type": "markdown",
      "source": [
        "**Step 2: Read Dataset**"
      ],
      "metadata": {
        "id": "YhPJSMPit0H5"
      }
    },
    {
      "cell_type": "code",
      "source": [
        "df=pd.read_csv('/content/Fish.csv')"
      ],
      "metadata": {
        "id": "aWxJYGVRqohg"
      },
      "execution_count": 2,
      "outputs": []
    },
    {
      "cell_type": "code",
      "source": [
        "df"
      ],
      "metadata": {
        "colab": {
          "base_uri": "https://localhost:8080/",
          "height": 423
        },
        "id": "23NrUhvyqzpS",
        "outputId": "43d190e9-8f68-445f-f471-16dc9127d67b"
      },
      "execution_count": 3,
      "outputs": [
        {
          "output_type": "execute_result",
          "data": {
            "text/plain": [
              "    Species  Weight  Length1  Length2  Length3   Height   Width\n",
              "0     Bream   242.0     23.2     25.4     30.0  11.5200  4.0200\n",
              "1     Bream   290.0     24.0     26.3     31.2  12.4800  4.3056\n",
              "2     Bream   340.0     23.9     26.5     31.1  12.3778  4.6961\n",
              "3     Bream   363.0     26.3     29.0     33.5  12.7300  4.4555\n",
              "4     Bream   430.0     26.5     29.0     34.0  12.4440  5.1340\n",
              "..      ...     ...      ...      ...      ...      ...     ...\n",
              "154   Smelt    12.2     11.5     12.2     13.4   2.0904  1.3936\n",
              "155   Smelt    13.4     11.7     12.4     13.5   2.4300  1.2690\n",
              "156   Smelt    12.2     12.1     13.0     13.8   2.2770  1.2558\n",
              "157   Smelt    19.7     13.2     14.3     15.2   2.8728  2.0672\n",
              "158   Smelt    19.9     13.8     15.0     16.2   2.9322  1.8792\n",
              "\n",
              "[159 rows x 7 columns]"
            ],
            "text/html": [
              "\n",
              "  <div id=\"df-b5972bff-a553-45d3-a947-74aa2ade8cf5\">\n",
              "    <div class=\"colab-df-container\">\n",
              "      <div>\n",
              "<style scoped>\n",
              "    .dataframe tbody tr th:only-of-type {\n",
              "        vertical-align: middle;\n",
              "    }\n",
              "\n",
              "    .dataframe tbody tr th {\n",
              "        vertical-align: top;\n",
              "    }\n",
              "\n",
              "    .dataframe thead th {\n",
              "        text-align: right;\n",
              "    }\n",
              "</style>\n",
              "<table border=\"1\" class=\"dataframe\">\n",
              "  <thead>\n",
              "    <tr style=\"text-align: right;\">\n",
              "      <th></th>\n",
              "      <th>Species</th>\n",
              "      <th>Weight</th>\n",
              "      <th>Length1</th>\n",
              "      <th>Length2</th>\n",
              "      <th>Length3</th>\n",
              "      <th>Height</th>\n",
              "      <th>Width</th>\n",
              "    </tr>\n",
              "  </thead>\n",
              "  <tbody>\n",
              "    <tr>\n",
              "      <th>0</th>\n",
              "      <td>Bream</td>\n",
              "      <td>242.0</td>\n",
              "      <td>23.2</td>\n",
              "      <td>25.4</td>\n",
              "      <td>30.0</td>\n",
              "      <td>11.5200</td>\n",
              "      <td>4.0200</td>\n",
              "    </tr>\n",
              "    <tr>\n",
              "      <th>1</th>\n",
              "      <td>Bream</td>\n",
              "      <td>290.0</td>\n",
              "      <td>24.0</td>\n",
              "      <td>26.3</td>\n",
              "      <td>31.2</td>\n",
              "      <td>12.4800</td>\n",
              "      <td>4.3056</td>\n",
              "    </tr>\n",
              "    <tr>\n",
              "      <th>2</th>\n",
              "      <td>Bream</td>\n",
              "      <td>340.0</td>\n",
              "      <td>23.9</td>\n",
              "      <td>26.5</td>\n",
              "      <td>31.1</td>\n",
              "      <td>12.3778</td>\n",
              "      <td>4.6961</td>\n",
              "    </tr>\n",
              "    <tr>\n",
              "      <th>3</th>\n",
              "      <td>Bream</td>\n",
              "      <td>363.0</td>\n",
              "      <td>26.3</td>\n",
              "      <td>29.0</td>\n",
              "      <td>33.5</td>\n",
              "      <td>12.7300</td>\n",
              "      <td>4.4555</td>\n",
              "    </tr>\n",
              "    <tr>\n",
              "      <th>4</th>\n",
              "      <td>Bream</td>\n",
              "      <td>430.0</td>\n",
              "      <td>26.5</td>\n",
              "      <td>29.0</td>\n",
              "      <td>34.0</td>\n",
              "      <td>12.4440</td>\n",
              "      <td>5.1340</td>\n",
              "    </tr>\n",
              "    <tr>\n",
              "      <th>...</th>\n",
              "      <td>...</td>\n",
              "      <td>...</td>\n",
              "      <td>...</td>\n",
              "      <td>...</td>\n",
              "      <td>...</td>\n",
              "      <td>...</td>\n",
              "      <td>...</td>\n",
              "    </tr>\n",
              "    <tr>\n",
              "      <th>154</th>\n",
              "      <td>Smelt</td>\n",
              "      <td>12.2</td>\n",
              "      <td>11.5</td>\n",
              "      <td>12.2</td>\n",
              "      <td>13.4</td>\n",
              "      <td>2.0904</td>\n",
              "      <td>1.3936</td>\n",
              "    </tr>\n",
              "    <tr>\n",
              "      <th>155</th>\n",
              "      <td>Smelt</td>\n",
              "      <td>13.4</td>\n",
              "      <td>11.7</td>\n",
              "      <td>12.4</td>\n",
              "      <td>13.5</td>\n",
              "      <td>2.4300</td>\n",
              "      <td>1.2690</td>\n",
              "    </tr>\n",
              "    <tr>\n",
              "      <th>156</th>\n",
              "      <td>Smelt</td>\n",
              "      <td>12.2</td>\n",
              "      <td>12.1</td>\n",
              "      <td>13.0</td>\n",
              "      <td>13.8</td>\n",
              "      <td>2.2770</td>\n",
              "      <td>1.2558</td>\n",
              "    </tr>\n",
              "    <tr>\n",
              "      <th>157</th>\n",
              "      <td>Smelt</td>\n",
              "      <td>19.7</td>\n",
              "      <td>13.2</td>\n",
              "      <td>14.3</td>\n",
              "      <td>15.2</td>\n",
              "      <td>2.8728</td>\n",
              "      <td>2.0672</td>\n",
              "    </tr>\n",
              "    <tr>\n",
              "      <th>158</th>\n",
              "      <td>Smelt</td>\n",
              "      <td>19.9</td>\n",
              "      <td>13.8</td>\n",
              "      <td>15.0</td>\n",
              "      <td>16.2</td>\n",
              "      <td>2.9322</td>\n",
              "      <td>1.8792</td>\n",
              "    </tr>\n",
              "  </tbody>\n",
              "</table>\n",
              "<p>159 rows × 7 columns</p>\n",
              "</div>\n",
              "      <button class=\"colab-df-convert\" onclick=\"convertToInteractive('df-b5972bff-a553-45d3-a947-74aa2ade8cf5')\"\n",
              "              title=\"Convert this dataframe to an interactive table.\"\n",
              "              style=\"display:none;\">\n",
              "        \n",
              "  <svg xmlns=\"http://www.w3.org/2000/svg\" height=\"24px\"viewBox=\"0 0 24 24\"\n",
              "       width=\"24px\">\n",
              "    <path d=\"M0 0h24v24H0V0z\" fill=\"none\"/>\n",
              "    <path d=\"M18.56 5.44l.94 2.06.94-2.06 2.06-.94-2.06-.94-.94-2.06-.94 2.06-2.06.94zm-11 1L8.5 8.5l.94-2.06 2.06-.94-2.06-.94L8.5 2.5l-.94 2.06-2.06.94zm10 10l.94 2.06.94-2.06 2.06-.94-2.06-.94-.94-2.06-.94 2.06-2.06.94z\"/><path d=\"M17.41 7.96l-1.37-1.37c-.4-.4-.92-.59-1.43-.59-.52 0-1.04.2-1.43.59L10.3 9.45l-7.72 7.72c-.78.78-.78 2.05 0 2.83L4 21.41c.39.39.9.59 1.41.59.51 0 1.02-.2 1.41-.59l7.78-7.78 2.81-2.81c.8-.78.8-2.07 0-2.86zM5.41 20L4 18.59l7.72-7.72 1.47 1.35L5.41 20z\"/>\n",
              "  </svg>\n",
              "      </button>\n",
              "      \n",
              "  <style>\n",
              "    .colab-df-container {\n",
              "      display:flex;\n",
              "      flex-wrap:wrap;\n",
              "      gap: 12px;\n",
              "    }\n",
              "\n",
              "    .colab-df-convert {\n",
              "      background-color: #E8F0FE;\n",
              "      border: none;\n",
              "      border-radius: 50%;\n",
              "      cursor: pointer;\n",
              "      display: none;\n",
              "      fill: #1967D2;\n",
              "      height: 32px;\n",
              "      padding: 0 0 0 0;\n",
              "      width: 32px;\n",
              "    }\n",
              "\n",
              "    .colab-df-convert:hover {\n",
              "      background-color: #E2EBFA;\n",
              "      box-shadow: 0px 1px 2px rgba(60, 64, 67, 0.3), 0px 1px 3px 1px rgba(60, 64, 67, 0.15);\n",
              "      fill: #174EA6;\n",
              "    }\n",
              "\n",
              "    [theme=dark] .colab-df-convert {\n",
              "      background-color: #3B4455;\n",
              "      fill: #D2E3FC;\n",
              "    }\n",
              "\n",
              "    [theme=dark] .colab-df-convert:hover {\n",
              "      background-color: #434B5C;\n",
              "      box-shadow: 0px 1px 3px 1px rgba(0, 0, 0, 0.15);\n",
              "      filter: drop-shadow(0px 1px 2px rgba(0, 0, 0, 0.3));\n",
              "      fill: #FFFFFF;\n",
              "    }\n",
              "  </style>\n",
              "\n",
              "      <script>\n",
              "        const buttonEl =\n",
              "          document.querySelector('#df-b5972bff-a553-45d3-a947-74aa2ade8cf5 button.colab-df-convert');\n",
              "        buttonEl.style.display =\n",
              "          google.colab.kernel.accessAllowed ? 'block' : 'none';\n",
              "\n",
              "        async function convertToInteractive(key) {\n",
              "          const element = document.querySelector('#df-b5972bff-a553-45d3-a947-74aa2ade8cf5');\n",
              "          const dataTable =\n",
              "            await google.colab.kernel.invokeFunction('convertToInteractive',\n",
              "                                                     [key], {});\n",
              "          if (!dataTable) return;\n",
              "\n",
              "          const docLinkHtml = 'Like what you see? Visit the ' +\n",
              "            '<a target=\"_blank\" href=https://colab.research.google.com/notebooks/data_table.ipynb>data table notebook</a>'\n",
              "            + ' to learn more about interactive tables.';\n",
              "          element.innerHTML = '';\n",
              "          dataTable['output_type'] = 'display_data';\n",
              "          await google.colab.output.renderOutput(dataTable, element);\n",
              "          const docLink = document.createElement('div');\n",
              "          docLink.innerHTML = docLinkHtml;\n",
              "          element.appendChild(docLink);\n",
              "        }\n",
              "      </script>\n",
              "    </div>\n",
              "  </div>\n",
              "  "
            ]
          },
          "metadata": {},
          "execution_count": 3
        }
      ]
    },
    {
      "cell_type": "code",
      "source": [
        "display(df.head())"
      ],
      "metadata": {
        "colab": {
          "base_uri": "https://localhost:8080/",
          "height": 206
        },
        "id": "C4VP-vcjuSp7",
        "outputId": "39b45ff0-c550-4ffa-9c9d-ec439bf9f004"
      },
      "execution_count": 4,
      "outputs": [
        {
          "output_type": "display_data",
          "data": {
            "text/plain": [
              "  Species  Weight  Length1  Length2  Length3   Height   Width\n",
              "0   Bream   242.0     23.2     25.4     30.0  11.5200  4.0200\n",
              "1   Bream   290.0     24.0     26.3     31.2  12.4800  4.3056\n",
              "2   Bream   340.0     23.9     26.5     31.1  12.3778  4.6961\n",
              "3   Bream   363.0     26.3     29.0     33.5  12.7300  4.4555\n",
              "4   Bream   430.0     26.5     29.0     34.0  12.4440  5.1340"
            ],
            "text/html": [
              "\n",
              "  <div id=\"df-4c80ac29-2265-41e7-88e8-665dc354756b\">\n",
              "    <div class=\"colab-df-container\">\n",
              "      <div>\n",
              "<style scoped>\n",
              "    .dataframe tbody tr th:only-of-type {\n",
              "        vertical-align: middle;\n",
              "    }\n",
              "\n",
              "    .dataframe tbody tr th {\n",
              "        vertical-align: top;\n",
              "    }\n",
              "\n",
              "    .dataframe thead th {\n",
              "        text-align: right;\n",
              "    }\n",
              "</style>\n",
              "<table border=\"1\" class=\"dataframe\">\n",
              "  <thead>\n",
              "    <tr style=\"text-align: right;\">\n",
              "      <th></th>\n",
              "      <th>Species</th>\n",
              "      <th>Weight</th>\n",
              "      <th>Length1</th>\n",
              "      <th>Length2</th>\n",
              "      <th>Length3</th>\n",
              "      <th>Height</th>\n",
              "      <th>Width</th>\n",
              "    </tr>\n",
              "  </thead>\n",
              "  <tbody>\n",
              "    <tr>\n",
              "      <th>0</th>\n",
              "      <td>Bream</td>\n",
              "      <td>242.0</td>\n",
              "      <td>23.2</td>\n",
              "      <td>25.4</td>\n",
              "      <td>30.0</td>\n",
              "      <td>11.5200</td>\n",
              "      <td>4.0200</td>\n",
              "    </tr>\n",
              "    <tr>\n",
              "      <th>1</th>\n",
              "      <td>Bream</td>\n",
              "      <td>290.0</td>\n",
              "      <td>24.0</td>\n",
              "      <td>26.3</td>\n",
              "      <td>31.2</td>\n",
              "      <td>12.4800</td>\n",
              "      <td>4.3056</td>\n",
              "    </tr>\n",
              "    <tr>\n",
              "      <th>2</th>\n",
              "      <td>Bream</td>\n",
              "      <td>340.0</td>\n",
              "      <td>23.9</td>\n",
              "      <td>26.5</td>\n",
              "      <td>31.1</td>\n",
              "      <td>12.3778</td>\n",
              "      <td>4.6961</td>\n",
              "    </tr>\n",
              "    <tr>\n",
              "      <th>3</th>\n",
              "      <td>Bream</td>\n",
              "      <td>363.0</td>\n",
              "      <td>26.3</td>\n",
              "      <td>29.0</td>\n",
              "      <td>33.5</td>\n",
              "      <td>12.7300</td>\n",
              "      <td>4.4555</td>\n",
              "    </tr>\n",
              "    <tr>\n",
              "      <th>4</th>\n",
              "      <td>Bream</td>\n",
              "      <td>430.0</td>\n",
              "      <td>26.5</td>\n",
              "      <td>29.0</td>\n",
              "      <td>34.0</td>\n",
              "      <td>12.4440</td>\n",
              "      <td>5.1340</td>\n",
              "    </tr>\n",
              "  </tbody>\n",
              "</table>\n",
              "</div>\n",
              "      <button class=\"colab-df-convert\" onclick=\"convertToInteractive('df-4c80ac29-2265-41e7-88e8-665dc354756b')\"\n",
              "              title=\"Convert this dataframe to an interactive table.\"\n",
              "              style=\"display:none;\">\n",
              "        \n",
              "  <svg xmlns=\"http://www.w3.org/2000/svg\" height=\"24px\"viewBox=\"0 0 24 24\"\n",
              "       width=\"24px\">\n",
              "    <path d=\"M0 0h24v24H0V0z\" fill=\"none\"/>\n",
              "    <path d=\"M18.56 5.44l.94 2.06.94-2.06 2.06-.94-2.06-.94-.94-2.06-.94 2.06-2.06.94zm-11 1L8.5 8.5l.94-2.06 2.06-.94-2.06-.94L8.5 2.5l-.94 2.06-2.06.94zm10 10l.94 2.06.94-2.06 2.06-.94-2.06-.94-.94-2.06-.94 2.06-2.06.94z\"/><path d=\"M17.41 7.96l-1.37-1.37c-.4-.4-.92-.59-1.43-.59-.52 0-1.04.2-1.43.59L10.3 9.45l-7.72 7.72c-.78.78-.78 2.05 0 2.83L4 21.41c.39.39.9.59 1.41.59.51 0 1.02-.2 1.41-.59l7.78-7.78 2.81-2.81c.8-.78.8-2.07 0-2.86zM5.41 20L4 18.59l7.72-7.72 1.47 1.35L5.41 20z\"/>\n",
              "  </svg>\n",
              "      </button>\n",
              "      \n",
              "  <style>\n",
              "    .colab-df-container {\n",
              "      display:flex;\n",
              "      flex-wrap:wrap;\n",
              "      gap: 12px;\n",
              "    }\n",
              "\n",
              "    .colab-df-convert {\n",
              "      background-color: #E8F0FE;\n",
              "      border: none;\n",
              "      border-radius: 50%;\n",
              "      cursor: pointer;\n",
              "      display: none;\n",
              "      fill: #1967D2;\n",
              "      height: 32px;\n",
              "      padding: 0 0 0 0;\n",
              "      width: 32px;\n",
              "    }\n",
              "\n",
              "    .colab-df-convert:hover {\n",
              "      background-color: #E2EBFA;\n",
              "      box-shadow: 0px 1px 2px rgba(60, 64, 67, 0.3), 0px 1px 3px 1px rgba(60, 64, 67, 0.15);\n",
              "      fill: #174EA6;\n",
              "    }\n",
              "\n",
              "    [theme=dark] .colab-df-convert {\n",
              "      background-color: #3B4455;\n",
              "      fill: #D2E3FC;\n",
              "    }\n",
              "\n",
              "    [theme=dark] .colab-df-convert:hover {\n",
              "      background-color: #434B5C;\n",
              "      box-shadow: 0px 1px 3px 1px rgba(0, 0, 0, 0.15);\n",
              "      filter: drop-shadow(0px 1px 2px rgba(0, 0, 0, 0.3));\n",
              "      fill: #FFFFFF;\n",
              "    }\n",
              "  </style>\n",
              "\n",
              "      <script>\n",
              "        const buttonEl =\n",
              "          document.querySelector('#df-4c80ac29-2265-41e7-88e8-665dc354756b button.colab-df-convert');\n",
              "        buttonEl.style.display =\n",
              "          google.colab.kernel.accessAllowed ? 'block' : 'none';\n",
              "\n",
              "        async function convertToInteractive(key) {\n",
              "          const element = document.querySelector('#df-4c80ac29-2265-41e7-88e8-665dc354756b');\n",
              "          const dataTable =\n",
              "            await google.colab.kernel.invokeFunction('convertToInteractive',\n",
              "                                                     [key], {});\n",
              "          if (!dataTable) return;\n",
              "\n",
              "          const docLinkHtml = 'Like what you see? Visit the ' +\n",
              "            '<a target=\"_blank\" href=https://colab.research.google.com/notebooks/data_table.ipynb>data table notebook</a>'\n",
              "            + ' to learn more about interactive tables.';\n",
              "          element.innerHTML = '';\n",
              "          dataTable['output_type'] = 'display_data';\n",
              "          await google.colab.output.renderOutput(dataTable, element);\n",
              "          const docLink = document.createElement('div');\n",
              "          docLink.innerHTML = docLinkHtml;\n",
              "          element.appendChild(docLink);\n",
              "        }\n",
              "      </script>\n",
              "    </div>\n",
              "  </div>\n",
              "  "
            ]
          },
          "metadata": {}
        }
      ]
    },
    {
      "cell_type": "code",
      "source": [
        "display(df.info())"
      ],
      "metadata": {
        "colab": {
          "base_uri": "https://localhost:8080/",
          "height": 277
        },
        "id": "S7MF25gXubi1",
        "outputId": "df37ee6b-7c3e-462d-bb47-ef4dd5147dc1"
      },
      "execution_count": 5,
      "outputs": [
        {
          "output_type": "stream",
          "name": "stdout",
          "text": [
            "<class 'pandas.core.frame.DataFrame'>\n",
            "RangeIndex: 159 entries, 0 to 158\n",
            "Data columns (total 7 columns):\n",
            " #   Column   Non-Null Count  Dtype  \n",
            "---  ------   --------------  -----  \n",
            " 0   Species  159 non-null    object \n",
            " 1   Weight   159 non-null    float64\n",
            " 2   Length1  159 non-null    float64\n",
            " 3   Length2  159 non-null    float64\n",
            " 4   Length3  159 non-null    float64\n",
            " 5   Height   159 non-null    float64\n",
            " 6   Width    159 non-null    float64\n",
            "dtypes: float64(6), object(1)\n",
            "memory usage: 8.8+ KB\n"
          ]
        },
        {
          "output_type": "display_data",
          "data": {
            "text/plain": [
              "None"
            ]
          },
          "metadata": {}
        }
      ]
    },
    {
      "cell_type": "code",
      "source": [
        "display(len(df['Species'].unique()))"
      ],
      "metadata": {
        "colab": {
          "base_uri": "https://localhost:8080/",
          "height": 34
        },
        "id": "x-Q9hzuyupYX",
        "outputId": "da0fd5da-c5b6-4684-e648-421de54aaa04"
      },
      "execution_count": 6,
      "outputs": [
        {
          "output_type": "display_data",
          "data": {
            "text/plain": [
              "7"
            ]
          },
          "metadata": {}
        }
      ]
    },
    {
      "cell_type": "markdown",
      "source": [
        "**Step 3: Data cleaning and preprocessing**"
      ],
      "metadata": {
        "id": "9giA6Apbt_if"
      }
    },
    {
      "cell_type": "code",
      "source": [
        "# Check for missing values\n",
        "print(df.isnull().sum())\n"
      ],
      "metadata": {
        "colab": {
          "base_uri": "https://localhost:8080/"
        },
        "id": "zlokfjzDrQxd",
        "outputId": "fdae8f9a-c964-4d8c-87d5-17274b3e3818"
      },
      "execution_count": 7,
      "outputs": [
        {
          "output_type": "stream",
          "name": "stdout",
          "text": [
            "Species    0\n",
            "Weight     0\n",
            "Length1    0\n",
            "Length2    0\n",
            "Length3    0\n",
            "Height     0\n",
            "Width      0\n",
            "dtype: int64\n"
          ]
        }
      ]
    },
    {
      "cell_type": "markdown",
      "source": [
        "**Here no missing value in dataset & also data is already cleaned so no need to do preprocessing and cleaning here**"
      ],
      "metadata": {
        "id": "zHbWmpOhuzT5"
      }
    },
    {
      "cell_type": "markdown",
      "source": [
        "**Step 4: Feature selection and elimination**\n",
        "\n",
        "**1. Identify the features that are most relevant for predicting fish weight.**\n",
        "\n",
        "**2. Use Recursive Feature Elimination (RFE) with the DecisionTreeRegressor.**"
      ],
      "metadata": {
        "id": "C4W4PJOKvNsx"
      }
    },
    {
      "cell_type": "code",
      "source": [
        "# Select the features and target\n",
        "features = df.drop(['Weight'], axis=1)\n",
        "target = df['Weight']"
      ],
      "metadata": {
        "id": "y0bCxGkUwYbl"
      },
      "execution_count": 8,
      "outputs": []
    },
    {
      "cell_type": "code",
      "source": [
        "# Convert categorical features to numerical representation using one-hot encoding\n",
        "categorical_features = ['Species']\n",
        "numeric_features = ['Length1', 'Length2', 'Length3', 'Height', 'Width']"
      ],
      "metadata": {
        "id": "Ixy4VN9gxn3K"
      },
      "execution_count": 9,
      "outputs": []
    },
    {
      "cell_type": "code",
      "source": [
        "# Perform one-hot encoding on categorical features\n",
        "encoder = OneHotEncoder(sparse=False)\n",
        "encoded_features = encoder.fit_transform(features[categorical_features])"
      ],
      "metadata": {
        "colab": {
          "base_uri": "https://localhost:8080/"
        },
        "id": "5SvumZbhx4D7",
        "outputId": "75e58e43-ea0c-4f85-979f-4dfd0e4a2bc1"
      },
      "execution_count": 10,
      "outputs": [
        {
          "output_type": "stream",
          "name": "stderr",
          "text": [
            "/usr/local/lib/python3.10/dist-packages/sklearn/preprocessing/_encoders.py:868: FutureWarning: `sparse` was renamed to `sparse_output` in version 1.2 and will be removed in 1.4. `sparse_output` is ignored unless you leave `sparse` to its default value.\n",
            "  warnings.warn(\n"
          ]
        }
      ]
    },
    {
      "cell_type": "code",
      "source": [
        "# Combine encoded features with numerical features\n",
        "X = np.concatenate((encoded_features, features[numeric_features].values), axis=1)\n",
        "X=pd.DataFrame(X)"
      ],
      "metadata": {
        "id": "B76wAjiEx943"
      },
      "execution_count": 11,
      "outputs": []
    },
    {
      "cell_type": "code",
      "source": [
        "print(X)"
      ],
      "metadata": {
        "colab": {
          "base_uri": "https://localhost:8080/"
        },
        "id": "RnYe2P6DyTDI",
        "outputId": "ca73cd8d-c982-4cb9-efbe-c158d06a30a7"
      },
      "execution_count": 12,
      "outputs": [
        {
          "output_type": "stream",
          "name": "stdout",
          "text": [
            "      0    1    2    3    4    5    6     7     8     9        10      11\n",
            "0    1.0  0.0  0.0  0.0  0.0  0.0  0.0  23.2  25.4  30.0  11.5200  4.0200\n",
            "1    1.0  0.0  0.0  0.0  0.0  0.0  0.0  24.0  26.3  31.2  12.4800  4.3056\n",
            "2    1.0  0.0  0.0  0.0  0.0  0.0  0.0  23.9  26.5  31.1  12.3778  4.6961\n",
            "3    1.0  0.0  0.0  0.0  0.0  0.0  0.0  26.3  29.0  33.5  12.7300  4.4555\n",
            "4    1.0  0.0  0.0  0.0  0.0  0.0  0.0  26.5  29.0  34.0  12.4440  5.1340\n",
            "..   ...  ...  ...  ...  ...  ...  ...   ...   ...   ...      ...     ...\n",
            "154  0.0  0.0  0.0  0.0  0.0  1.0  0.0  11.5  12.2  13.4   2.0904  1.3936\n",
            "155  0.0  0.0  0.0  0.0  0.0  1.0  0.0  11.7  12.4  13.5   2.4300  1.2690\n",
            "156  0.0  0.0  0.0  0.0  0.0  1.0  0.0  12.1  13.0  13.8   2.2770  1.2558\n",
            "157  0.0  0.0  0.0  0.0  0.0  1.0  0.0  13.2  14.3  15.2   2.8728  2.0672\n",
            "158  0.0  0.0  0.0  0.0  0.0  1.0  0.0  13.8  15.0  16.2   2.9322  1.8792\n",
            "\n",
            "[159 rows x 12 columns]\n"
          ]
        }
      ]
    },
    {
      "cell_type": "code",
      "source": [
        "# Perform Recursive Feature Elimination (RFE) with DecisionTreeRegressor\n",
        "estimator = DecisionTreeRegressor()\n",
        "selector = RFE(estimator, n_features_to_select=3, step=1)\n",
        "X_selected = selector.fit_transform(X, target)"
      ],
      "metadata": {
        "id": "5wHKI3yKDskq"
      },
      "execution_count": 13,
      "outputs": []
    },
    {
      "cell_type": "code",
      "source": [
        "# Get the selected feature indices\n",
        "X_selected"
      ],
      "metadata": {
        "colab": {
          "base_uri": "https://localhost:8080/"
        },
        "id": "SVarRQXgDxjE",
        "outputId": "75f45464-4cf3-420b-c70c-8b891c4226e5"
      },
      "execution_count": 14,
      "outputs": [
        {
          "output_type": "execute_result",
          "data": {
            "text/plain": [
              "array([[30.    , 11.52  ,  4.02  ],\n",
              "       [31.2   , 12.48  ,  4.3056],\n",
              "       [31.1   , 12.3778,  4.6961],\n",
              "       [33.5   , 12.73  ,  4.4555],\n",
              "       [34.    , 12.444 ,  5.134 ],\n",
              "       [34.7   , 13.6024,  4.9274],\n",
              "       [34.5   , 14.1795,  5.2785],\n",
              "       [35.    , 12.67  ,  4.69  ],\n",
              "       [35.1   , 14.0049,  4.8438],\n",
              "       [36.2   , 14.2266,  4.9594],\n",
              "       [36.2   , 14.2628,  5.1042],\n",
              "       [36.2   , 14.3714,  4.8146],\n",
              "       [36.4   , 13.7592,  4.368 ],\n",
              "       [37.3   , 13.9129,  5.0728],\n",
              "       [37.2   , 14.9544,  5.1708],\n",
              "       [37.2   , 15.438 ,  5.58  ],\n",
              "       [38.3   , 14.8604,  5.2854],\n",
              "       [38.5   , 14.938 ,  5.1975],\n",
              "       [38.6   , 15.633 ,  5.1338],\n",
              "       [38.7   , 14.4738,  5.7276],\n",
              "       [39.5   , 15.1285,  5.5695],\n",
              "       [39.2   , 15.9936,  5.3704],\n",
              "       [39.7   , 15.5227,  5.2801],\n",
              "       [40.6   , 15.4686,  6.1306],\n",
              "       [40.5   , 16.2405,  5.589 ],\n",
              "       [40.9   , 16.36  ,  6.0532],\n",
              "       [40.6   , 16.3618,  6.09  ],\n",
              "       [41.5   , 16.517 ,  5.8515],\n",
              "       [41.6   , 16.8896,  6.1984],\n",
              "       [42.6   , 18.957 ,  6.603 ],\n",
              "       [44.1   , 18.0369,  6.3063],\n",
              "       [44.    , 18.084 ,  6.292 ],\n",
              "       [45.3   , 18.7542,  6.7497],\n",
              "       [45.9   , 18.6354,  6.7473],\n",
              "       [46.5   , 17.6235,  6.3705],\n",
              "       [16.2   ,  4.1472,  2.268 ],\n",
              "       [20.3   ,  5.2983,  2.8217],\n",
              "       [21.2   ,  5.5756,  2.9044],\n",
              "       [22.2   ,  5.6166,  3.1746],\n",
              "       [22.2   ,  6.216 ,  3.5742],\n",
              "       [22.8   ,  6.4752,  3.3516],\n",
              "       [23.1   ,  6.1677,  3.3957],\n",
              "       [23.7   ,  6.1146,  3.2943],\n",
              "       [24.7   ,  5.8045,  3.7544],\n",
              "       [24.3   ,  6.6339,  3.5478],\n",
              "       [25.3   ,  7.0334,  3.8203],\n",
              "       [25.    ,  6.55  ,  3.325 ],\n",
              "       [25.    ,  6.4   ,  3.8   ],\n",
              "       [27.2   ,  7.5344,  3.8352],\n",
              "       [26.7   ,  6.9153,  3.6312],\n",
              "       [26.8   ,  7.3968,  4.1272],\n",
              "       [27.9   ,  7.0866,  3.906 ],\n",
              "       [29.2   ,  8.8768,  4.4968],\n",
              "       [30.6   ,  8.568 ,  4.7736],\n",
              "       [35.    ,  9.485 ,  5.355 ],\n",
              "       [28.7   ,  8.3804,  4.2476],\n",
              "       [29.3   ,  8.1454,  4.2485],\n",
              "       [30.8   ,  8.778 ,  4.6816],\n",
              "       [34.    , 10.744 ,  6.562 ],\n",
              "       [39.6   , 11.7612,  6.5736],\n",
              "       [43.5   , 12.354 ,  6.525 ],\n",
              "       [16.5   ,  6.8475,  2.3265],\n",
              "       [17.4   ,  6.5772,  2.3142],\n",
              "       [19.8   ,  7.4052,  2.673 ],\n",
              "       [21.3   ,  8.3922,  2.9181],\n",
              "       [22.4   ,  8.8928,  3.2928],\n",
              "       [23.2   ,  8.5376,  3.2944],\n",
              "       [23.2   ,  9.396 ,  3.4104],\n",
              "       [24.1   ,  9.7364,  3.1571],\n",
              "       [25.8   , 10.3458,  3.6636],\n",
              "       [28.    , 11.088 ,  4.144 ],\n",
              "       [29.    , 11.368 ,  4.234 ],\n",
              "       [ 8.8   ,  2.112 ,  1.408 ],\n",
              "       [14.7   ,  3.528 ,  1.9992],\n",
              "       [16.    ,  3.824 ,  2.432 ],\n",
              "       [17.2   ,  4.5924,  2.6316],\n",
              "       [18.5   ,  4.588 ,  2.9415],\n",
              "       [19.2   ,  5.2224,  3.3216],\n",
              "       [19.4   ,  5.1992,  3.1234],\n",
              "       [20.2   ,  5.6358,  3.0502],\n",
              "       [20.8   ,  5.1376,  3.0368],\n",
              "       [21.    ,  5.082 ,  2.772 ],\n",
              "       [22.5   ,  5.6925,  3.555 ],\n",
              "       [22.5   ,  5.9175,  3.3075],\n",
              "       [22.5   ,  5.6925,  3.6675],\n",
              "       [22.8   ,  6.384 ,  3.534 ],\n",
              "       [23.5   ,  6.11  ,  3.4075],\n",
              "       [23.5   ,  5.64  ,  3.525 ],\n",
              "       [23.5   ,  6.11  ,  3.525 ],\n",
              "       [23.5   ,  5.875 ,  3.525 ],\n",
              "       [23.5   ,  5.5225,  3.995 ],\n",
              "       [24.    ,  5.856 ,  3.624 ],\n",
              "       [24.    ,  6.792 ,  3.624 ],\n",
              "       [24.2   ,  5.9532,  3.63  ],\n",
              "       [24.5   ,  5.2185,  3.626 ],\n",
              "       [25.    ,  6.275 ,  3.725 ],\n",
              "       [25.5   ,  7.293 ,  3.723 ],\n",
              "       [25.5   ,  6.375 ,  3.825 ],\n",
              "       [26.2   ,  6.7334,  4.1658],\n",
              "       [26.5   ,  6.4395,  3.6835],\n",
              "       [27.    ,  6.561 ,  4.239 ],\n",
              "       [28.    ,  7.168 ,  4.144 ],\n",
              "       [28.7   ,  8.323 ,  5.1373],\n",
              "       [28.9   ,  7.1672,  4.335 ],\n",
              "       [28.9   ,  7.0516,  4.335 ],\n",
              "       [28.9   ,  7.2828,  4.5662],\n",
              "       [29.4   ,  7.8204,  4.2042],\n",
              "       [30.1   ,  7.5852,  4.6354],\n",
              "       [31.6   ,  7.6156,  4.7716],\n",
              "       [34.    , 10.03  ,  6.018 ],\n",
              "       [36.5   , 10.2565,  6.3875],\n",
              "       [37.3   , 11.4884,  7.7957],\n",
              "       [39.    , 10.881 ,  6.864 ],\n",
              "       [38.3   , 10.6091,  6.7408],\n",
              "       [39.4   , 10.835 ,  6.2646],\n",
              "       [39.3   , 10.5717,  6.3666],\n",
              "       [41.4   , 11.1366,  7.4934],\n",
              "       [41.4   , 11.1366,  6.003 ],\n",
              "       [41.3   , 12.4313,  7.3514],\n",
              "       [42.3   , 11.9286,  7.1064],\n",
              "       [42.5   , 11.73  ,  7.225 ],\n",
              "       [42.4   , 12.3808,  7.4624],\n",
              "       [42.5   , 11.135 ,  6.63  ],\n",
              "       [44.6   , 12.8002,  6.8684],\n",
              "       [45.2   , 11.9328,  7.2772],\n",
              "       [45.5   , 12.5125,  7.4165],\n",
              "       [46.    , 12.604 ,  8.142 ],\n",
              "       [46.6   , 12.4888,  7.5958],\n",
              "       [34.8   ,  5.568 ,  3.3756],\n",
              "       [37.8   ,  5.7078,  4.158 ],\n",
              "       [38.8   ,  5.9364,  4.3844],\n",
              "       [39.8   ,  6.2884,  4.0198],\n",
              "       [40.5   ,  7.29  ,  4.5765],\n",
              "       [41.    ,  6.396 ,  3.977 ],\n",
              "       [45.5   ,  7.28  ,  4.3225],\n",
              "       [45.5   ,  6.825 ,  4.459 ],\n",
              "       [45.8   ,  7.786 ,  5.1296],\n",
              "       [48.    ,  6.96  ,  4.896 ],\n",
              "       [48.7   ,  7.792 ,  4.87  ],\n",
              "       [51.2   ,  7.68  ,  5.376 ],\n",
              "       [55.1   ,  8.9262,  6.1712],\n",
              "       [59.7   , 10.6863,  6.9849],\n",
              "       [64.    ,  9.6   ,  6.144 ],\n",
              "       [64.    ,  9.6   ,  6.144 ],\n",
              "       [68.    , 10.812 ,  7.48  ],\n",
              "       [10.8   ,  1.7388,  1.0476],\n",
              "       [11.6   ,  1.972 ,  1.16  ],\n",
              "       [11.6   ,  1.7284,  1.1484],\n",
              "       [12.    ,  2.196 ,  1.38  ],\n",
              "       [12.4   ,  2.0832,  1.2772],\n",
              "       [12.6   ,  1.9782,  1.2852],\n",
              "       [13.1   ,  2.2139,  1.2838],\n",
              "       [13.1   ,  2.2139,  1.1659],\n",
              "       [13.2   ,  2.2044,  1.1484],\n",
              "       [13.4   ,  2.0904,  1.3936],\n",
              "       [13.5   ,  2.43  ,  1.269 ],\n",
              "       [13.8   ,  2.277 ,  1.2558],\n",
              "       [15.2   ,  2.8728,  2.0672],\n",
              "       [16.2   ,  2.9322,  1.8792]])"
            ]
          },
          "metadata": {},
          "execution_count": 14
        }
      ]
    },
    {
      "cell_type": "markdown",
      "source": [
        "**Step 5: Select the root node**"
      ],
      "metadata": {
        "id": "CR9KDoH7GkgJ"
      }
    },
    {
      "cell_type": "code",
      "source": [
        "root_feature = X_selected[:,0]"
      ],
      "metadata": {
        "id": "hbORfNmKFSt-"
      },
      "execution_count": 15,
      "outputs": []
    },
    {
      "cell_type": "code",
      "source": [
        "root_feature"
      ],
      "metadata": {
        "colab": {
          "base_uri": "https://localhost:8080/"
        },
        "id": "XcccLEPqG2lI",
        "outputId": "0b9a4ca3-8895-4cf5-d5ee-e26a7aac2566"
      },
      "execution_count": 16,
      "outputs": [
        {
          "output_type": "execute_result",
          "data": {
            "text/plain": [
              "array([30. , 31.2, 31.1, 33.5, 34. , 34.7, 34.5, 35. , 35.1, 36.2, 36.2,\n",
              "       36.2, 36.4, 37.3, 37.2, 37.2, 38.3, 38.5, 38.6, 38.7, 39.5, 39.2,\n",
              "       39.7, 40.6, 40.5, 40.9, 40.6, 41.5, 41.6, 42.6, 44.1, 44. , 45.3,\n",
              "       45.9, 46.5, 16.2, 20.3, 21.2, 22.2, 22.2, 22.8, 23.1, 23.7, 24.7,\n",
              "       24.3, 25.3, 25. , 25. , 27.2, 26.7, 26.8, 27.9, 29.2, 30.6, 35. ,\n",
              "       28.7, 29.3, 30.8, 34. , 39.6, 43.5, 16.5, 17.4, 19.8, 21.3, 22.4,\n",
              "       23.2, 23.2, 24.1, 25.8, 28. , 29. ,  8.8, 14.7, 16. , 17.2, 18.5,\n",
              "       19.2, 19.4, 20.2, 20.8, 21. , 22.5, 22.5, 22.5, 22.8, 23.5, 23.5,\n",
              "       23.5, 23.5, 23.5, 24. , 24. , 24.2, 24.5, 25. , 25.5, 25.5, 26.2,\n",
              "       26.5, 27. , 28. , 28.7, 28.9, 28.9, 28.9, 29.4, 30.1, 31.6, 34. ,\n",
              "       36.5, 37.3, 39. , 38.3, 39.4, 39.3, 41.4, 41.4, 41.3, 42.3, 42.5,\n",
              "       42.4, 42.5, 44.6, 45.2, 45.5, 46. , 46.6, 34.8, 37.8, 38.8, 39.8,\n",
              "       40.5, 41. , 45.5, 45.5, 45.8, 48. , 48.7, 51.2, 55.1, 59.7, 64. ,\n",
              "       64. , 68. , 10.8, 11.6, 11.6, 12. , 12.4, 12.6, 13.1, 13.1, 13.2,\n",
              "       13.4, 13.5, 13.8, 15.2, 16.2])"
            ]
          },
          "metadata": {},
          "execution_count": 16
        }
      ]
    },
    {
      "cell_type": "markdown",
      "source": [
        "**Step 6: Build a model**"
      ],
      "metadata": {
        "id": "NrElPc8THloc"
      }
    },
    {
      "cell_type": "code",
      "source": [
        "# Split the dataset into training and testing sets\n",
        "X_train, X_test, y_train, y_test = train_test_split(X_selected, target, test_size=0.2, random_state=42)\n"
      ],
      "metadata": {
        "id": "vLvV-RxMHQ10"
      },
      "execution_count": 17,
      "outputs": []
    },
    {
      "cell_type": "code",
      "source": [
        "# Normalize numerical features using Min-Max scaling\n",
        "scaler = MinMaxScaler()\n",
        "X_train_scaled = scaler.fit_transform(X_train)\n",
        "X_test_scaled = scaler.transform(X_test)"
      ],
      "metadata": {
        "id": "pywjixjlICYy"
      },
      "execution_count": 18,
      "outputs": []
    },
    {
      "cell_type": "code",
      "source": [
        "# Build a Decision Tree model\n",
        "model = DecisionTreeRegressor(random_state=42)\n",
        "model.fit(X_train_scaled, y_train)"
      ],
      "metadata": {
        "colab": {
          "base_uri": "https://localhost:8080/",
          "height": 74
        },
        "id": "kwG-LVKkISw7",
        "outputId": "bab707bd-ff54-489b-c11d-ab4c16585ebc"
      },
      "execution_count": 19,
      "outputs": [
        {
          "output_type": "execute_result",
          "data": {
            "text/plain": [
              "DecisionTreeRegressor(random_state=42)"
            ],
            "text/html": [
              "<style>#sk-container-id-1 {color: black;background-color: white;}#sk-container-id-1 pre{padding: 0;}#sk-container-id-1 div.sk-toggleable {background-color: white;}#sk-container-id-1 label.sk-toggleable__label {cursor: pointer;display: block;width: 100%;margin-bottom: 0;padding: 0.3em;box-sizing: border-box;text-align: center;}#sk-container-id-1 label.sk-toggleable__label-arrow:before {content: \"▸\";float: left;margin-right: 0.25em;color: #696969;}#sk-container-id-1 label.sk-toggleable__label-arrow:hover:before {color: black;}#sk-container-id-1 div.sk-estimator:hover label.sk-toggleable__label-arrow:before {color: black;}#sk-container-id-1 div.sk-toggleable__content {max-height: 0;max-width: 0;overflow: hidden;text-align: left;background-color: #f0f8ff;}#sk-container-id-1 div.sk-toggleable__content pre {margin: 0.2em;color: black;border-radius: 0.25em;background-color: #f0f8ff;}#sk-container-id-1 input.sk-toggleable__control:checked~div.sk-toggleable__content {max-height: 200px;max-width: 100%;overflow: auto;}#sk-container-id-1 input.sk-toggleable__control:checked~label.sk-toggleable__label-arrow:before {content: \"▾\";}#sk-container-id-1 div.sk-estimator input.sk-toggleable__control:checked~label.sk-toggleable__label {background-color: #d4ebff;}#sk-container-id-1 div.sk-label input.sk-toggleable__control:checked~label.sk-toggleable__label {background-color: #d4ebff;}#sk-container-id-1 input.sk-hidden--visually {border: 0;clip: rect(1px 1px 1px 1px);clip: rect(1px, 1px, 1px, 1px);height: 1px;margin: -1px;overflow: hidden;padding: 0;position: absolute;width: 1px;}#sk-container-id-1 div.sk-estimator {font-family: monospace;background-color: #f0f8ff;border: 1px dotted black;border-radius: 0.25em;box-sizing: border-box;margin-bottom: 0.5em;}#sk-container-id-1 div.sk-estimator:hover {background-color: #d4ebff;}#sk-container-id-1 div.sk-parallel-item::after {content: \"\";width: 100%;border-bottom: 1px solid gray;flex-grow: 1;}#sk-container-id-1 div.sk-label:hover label.sk-toggleable__label {background-color: #d4ebff;}#sk-container-id-1 div.sk-serial::before {content: \"\";position: absolute;border-left: 1px solid gray;box-sizing: border-box;top: 0;bottom: 0;left: 50%;z-index: 0;}#sk-container-id-1 div.sk-serial {display: flex;flex-direction: column;align-items: center;background-color: white;padding-right: 0.2em;padding-left: 0.2em;position: relative;}#sk-container-id-1 div.sk-item {position: relative;z-index: 1;}#sk-container-id-1 div.sk-parallel {display: flex;align-items: stretch;justify-content: center;background-color: white;position: relative;}#sk-container-id-1 div.sk-item::before, #sk-container-id-1 div.sk-parallel-item::before {content: \"\";position: absolute;border-left: 1px solid gray;box-sizing: border-box;top: 0;bottom: 0;left: 50%;z-index: -1;}#sk-container-id-1 div.sk-parallel-item {display: flex;flex-direction: column;z-index: 1;position: relative;background-color: white;}#sk-container-id-1 div.sk-parallel-item:first-child::after {align-self: flex-end;width: 50%;}#sk-container-id-1 div.sk-parallel-item:last-child::after {align-self: flex-start;width: 50%;}#sk-container-id-1 div.sk-parallel-item:only-child::after {width: 0;}#sk-container-id-1 div.sk-dashed-wrapped {border: 1px dashed gray;margin: 0 0.4em 0.5em 0.4em;box-sizing: border-box;padding-bottom: 0.4em;background-color: white;}#sk-container-id-1 div.sk-label label {font-family: monospace;font-weight: bold;display: inline-block;line-height: 1.2em;}#sk-container-id-1 div.sk-label-container {text-align: center;}#sk-container-id-1 div.sk-container {/* jupyter's `normalize.less` sets `[hidden] { display: none; }` but bootstrap.min.css set `[hidden] { display: none !important; }` so we also need the `!important` here to be able to override the default hidden behavior on the sphinx rendered scikit-learn.org. See: https://github.com/scikit-learn/scikit-learn/issues/21755 */display: inline-block !important;position: relative;}#sk-container-id-1 div.sk-text-repr-fallback {display: none;}</style><div id=\"sk-container-id-1\" class=\"sk-top-container\"><div class=\"sk-text-repr-fallback\"><pre>DecisionTreeRegressor(random_state=42)</pre><b>In a Jupyter environment, please rerun this cell to show the HTML representation or trust the notebook. <br />On GitHub, the HTML representation is unable to render, please try loading this page with nbviewer.org.</b></div><div class=\"sk-container\" hidden><div class=\"sk-item\"><div class=\"sk-estimator sk-toggleable\"><input class=\"sk-toggleable__control sk-hidden--visually\" id=\"sk-estimator-id-1\" type=\"checkbox\" checked><label for=\"sk-estimator-id-1\" class=\"sk-toggleable__label sk-toggleable__label-arrow\">DecisionTreeRegressor</label><div class=\"sk-toggleable__content\"><pre>DecisionTreeRegressor(random_state=42)</pre></div></div></div></div></div>"
            ]
          },
          "metadata": {},
          "execution_count": 19
        }
      ]
    },
    {
      "cell_type": "markdown",
      "source": [
        "**Step 7: Evaluation and visualization**"
      ],
      "metadata": {
        "id": "hSansB-LIhhQ"
      }
    },
    {
      "cell_type": "code",
      "source": [
        "# Make predictions on the test set\n",
        "y_pred = model.predict(X_test_scaled)"
      ],
      "metadata": {
        "id": "jkaNUxhkIbQZ"
      },
      "execution_count": 20,
      "outputs": []
    },
    {
      "cell_type": "code",
      "source": [
        "df = pd.DataFrame({'Real':y_test, 'Predicted':y_pred})\n",
        "df"
      ],
      "metadata": {
        "colab": {
          "base_uri": "https://localhost:8080/",
          "height": 1000
        },
        "id": "c-Ta_4b4Iocq",
        "outputId": "d79e0d82-8aa5-457f-eb94-02ddea5f6899"
      },
      "execution_count": 21,
      "outputs": [
        {
          "output_type": "execute_result",
          "data": {
            "text/plain": [
              "       Real  Predicted\n",
              "78     78.0       80.0\n",
              "155    13.4       12.2\n",
              "128   200.0      300.0\n",
              "55    270.0      300.0\n",
              "94    150.0      150.0\n",
              "29   1000.0      975.0\n",
              "147     7.0        7.5\n",
              "51    180.0      265.0\n",
              "98    188.0      200.0\n",
              "141  1250.0     1650.0\n",
              "19    650.0      725.0\n",
              "60   1000.0      950.0\n",
              "15    600.0      600.0\n",
              "65    150.0      120.0\n",
              "24    700.0      620.0\n",
              "30    920.0      950.0\n",
              "126  1000.0     1000.0\n",
              "101   218.0      260.0\n",
              "96    225.0      160.0\n",
              "16    700.0      700.0\n",
              "151    10.0        9.8\n",
              "18    610.0      475.0\n",
              "12    500.0      340.0\n",
              "9     500.0      475.0\n",
              "31    955.0      950.0\n",
              "125  1100.0     1000.0\n",
              "95    170.0      160.0\n",
              "56    270.0      250.0\n",
              "145     6.7        7.5\n",
              "152     9.9        9.8\n",
              "135   510.0      456.0\n",
              "76     70.0       80.0"
            ],
            "text/html": [
              "\n",
              "  <div id=\"df-6ff9e851-866a-48d8-a964-2189e6d905be\">\n",
              "    <div class=\"colab-df-container\">\n",
              "      <div>\n",
              "<style scoped>\n",
              "    .dataframe tbody tr th:only-of-type {\n",
              "        vertical-align: middle;\n",
              "    }\n",
              "\n",
              "    .dataframe tbody tr th {\n",
              "        vertical-align: top;\n",
              "    }\n",
              "\n",
              "    .dataframe thead th {\n",
              "        text-align: right;\n",
              "    }\n",
              "</style>\n",
              "<table border=\"1\" class=\"dataframe\">\n",
              "  <thead>\n",
              "    <tr style=\"text-align: right;\">\n",
              "      <th></th>\n",
              "      <th>Real</th>\n",
              "      <th>Predicted</th>\n",
              "    </tr>\n",
              "  </thead>\n",
              "  <tbody>\n",
              "    <tr>\n",
              "      <th>78</th>\n",
              "      <td>78.0</td>\n",
              "      <td>80.0</td>\n",
              "    </tr>\n",
              "    <tr>\n",
              "      <th>155</th>\n",
              "      <td>13.4</td>\n",
              "      <td>12.2</td>\n",
              "    </tr>\n",
              "    <tr>\n",
              "      <th>128</th>\n",
              "      <td>200.0</td>\n",
              "      <td>300.0</td>\n",
              "    </tr>\n",
              "    <tr>\n",
              "      <th>55</th>\n",
              "      <td>270.0</td>\n",
              "      <td>300.0</td>\n",
              "    </tr>\n",
              "    <tr>\n",
              "      <th>94</th>\n",
              "      <td>150.0</td>\n",
              "      <td>150.0</td>\n",
              "    </tr>\n",
              "    <tr>\n",
              "      <th>29</th>\n",
              "      <td>1000.0</td>\n",
              "      <td>975.0</td>\n",
              "    </tr>\n",
              "    <tr>\n",
              "      <th>147</th>\n",
              "      <td>7.0</td>\n",
              "      <td>7.5</td>\n",
              "    </tr>\n",
              "    <tr>\n",
              "      <th>51</th>\n",
              "      <td>180.0</td>\n",
              "      <td>265.0</td>\n",
              "    </tr>\n",
              "    <tr>\n",
              "      <th>98</th>\n",
              "      <td>188.0</td>\n",
              "      <td>200.0</td>\n",
              "    </tr>\n",
              "    <tr>\n",
              "      <th>141</th>\n",
              "      <td>1250.0</td>\n",
              "      <td>1650.0</td>\n",
              "    </tr>\n",
              "    <tr>\n",
              "      <th>19</th>\n",
              "      <td>650.0</td>\n",
              "      <td>725.0</td>\n",
              "    </tr>\n",
              "    <tr>\n",
              "      <th>60</th>\n",
              "      <td>1000.0</td>\n",
              "      <td>950.0</td>\n",
              "    </tr>\n",
              "    <tr>\n",
              "      <th>15</th>\n",
              "      <td>600.0</td>\n",
              "      <td>600.0</td>\n",
              "    </tr>\n",
              "    <tr>\n",
              "      <th>65</th>\n",
              "      <td>150.0</td>\n",
              "      <td>120.0</td>\n",
              "    </tr>\n",
              "    <tr>\n",
              "      <th>24</th>\n",
              "      <td>700.0</td>\n",
              "      <td>620.0</td>\n",
              "    </tr>\n",
              "    <tr>\n",
              "      <th>30</th>\n",
              "      <td>920.0</td>\n",
              "      <td>950.0</td>\n",
              "    </tr>\n",
              "    <tr>\n",
              "      <th>126</th>\n",
              "      <td>1000.0</td>\n",
              "      <td>1000.0</td>\n",
              "    </tr>\n",
              "    <tr>\n",
              "      <th>101</th>\n",
              "      <td>218.0</td>\n",
              "      <td>260.0</td>\n",
              "    </tr>\n",
              "    <tr>\n",
              "      <th>96</th>\n",
              "      <td>225.0</td>\n",
              "      <td>160.0</td>\n",
              "    </tr>\n",
              "    <tr>\n",
              "      <th>16</th>\n",
              "      <td>700.0</td>\n",
              "      <td>700.0</td>\n",
              "    </tr>\n",
              "    <tr>\n",
              "      <th>151</th>\n",
              "      <td>10.0</td>\n",
              "      <td>9.8</td>\n",
              "    </tr>\n",
              "    <tr>\n",
              "      <th>18</th>\n",
              "      <td>610.0</td>\n",
              "      <td>475.0</td>\n",
              "    </tr>\n",
              "    <tr>\n",
              "      <th>12</th>\n",
              "      <td>500.0</td>\n",
              "      <td>340.0</td>\n",
              "    </tr>\n",
              "    <tr>\n",
              "      <th>9</th>\n",
              "      <td>500.0</td>\n",
              "      <td>475.0</td>\n",
              "    </tr>\n",
              "    <tr>\n",
              "      <th>31</th>\n",
              "      <td>955.0</td>\n",
              "      <td>950.0</td>\n",
              "    </tr>\n",
              "    <tr>\n",
              "      <th>125</th>\n",
              "      <td>1100.0</td>\n",
              "      <td>1000.0</td>\n",
              "    </tr>\n",
              "    <tr>\n",
              "      <th>95</th>\n",
              "      <td>170.0</td>\n",
              "      <td>160.0</td>\n",
              "    </tr>\n",
              "    <tr>\n",
              "      <th>56</th>\n",
              "      <td>270.0</td>\n",
              "      <td>250.0</td>\n",
              "    </tr>\n",
              "    <tr>\n",
              "      <th>145</th>\n",
              "      <td>6.7</td>\n",
              "      <td>7.5</td>\n",
              "    </tr>\n",
              "    <tr>\n",
              "      <th>152</th>\n",
              "      <td>9.9</td>\n",
              "      <td>9.8</td>\n",
              "    </tr>\n",
              "    <tr>\n",
              "      <th>135</th>\n",
              "      <td>510.0</td>\n",
              "      <td>456.0</td>\n",
              "    </tr>\n",
              "    <tr>\n",
              "      <th>76</th>\n",
              "      <td>70.0</td>\n",
              "      <td>80.0</td>\n",
              "    </tr>\n",
              "  </tbody>\n",
              "</table>\n",
              "</div>\n",
              "      <button class=\"colab-df-convert\" onclick=\"convertToInteractive('df-6ff9e851-866a-48d8-a964-2189e6d905be')\"\n",
              "              title=\"Convert this dataframe to an interactive table.\"\n",
              "              style=\"display:none;\">\n",
              "        \n",
              "  <svg xmlns=\"http://www.w3.org/2000/svg\" height=\"24px\"viewBox=\"0 0 24 24\"\n",
              "       width=\"24px\">\n",
              "    <path d=\"M0 0h24v24H0V0z\" fill=\"none\"/>\n",
              "    <path d=\"M18.56 5.44l.94 2.06.94-2.06 2.06-.94-2.06-.94-.94-2.06-.94 2.06-2.06.94zm-11 1L8.5 8.5l.94-2.06 2.06-.94-2.06-.94L8.5 2.5l-.94 2.06-2.06.94zm10 10l.94 2.06.94-2.06 2.06-.94-2.06-.94-.94-2.06-.94 2.06-2.06.94z\"/><path d=\"M17.41 7.96l-1.37-1.37c-.4-.4-.92-.59-1.43-.59-.52 0-1.04.2-1.43.59L10.3 9.45l-7.72 7.72c-.78.78-.78 2.05 0 2.83L4 21.41c.39.39.9.59 1.41.59.51 0 1.02-.2 1.41-.59l7.78-7.78 2.81-2.81c.8-.78.8-2.07 0-2.86zM5.41 20L4 18.59l7.72-7.72 1.47 1.35L5.41 20z\"/>\n",
              "  </svg>\n",
              "      </button>\n",
              "      \n",
              "  <style>\n",
              "    .colab-df-container {\n",
              "      display:flex;\n",
              "      flex-wrap:wrap;\n",
              "      gap: 12px;\n",
              "    }\n",
              "\n",
              "    .colab-df-convert {\n",
              "      background-color: #E8F0FE;\n",
              "      border: none;\n",
              "      border-radius: 50%;\n",
              "      cursor: pointer;\n",
              "      display: none;\n",
              "      fill: #1967D2;\n",
              "      height: 32px;\n",
              "      padding: 0 0 0 0;\n",
              "      width: 32px;\n",
              "    }\n",
              "\n",
              "    .colab-df-convert:hover {\n",
              "      background-color: #E2EBFA;\n",
              "      box-shadow: 0px 1px 2px rgba(60, 64, 67, 0.3), 0px 1px 3px 1px rgba(60, 64, 67, 0.15);\n",
              "      fill: #174EA6;\n",
              "    }\n",
              "\n",
              "    [theme=dark] .colab-df-convert {\n",
              "      background-color: #3B4455;\n",
              "      fill: #D2E3FC;\n",
              "    }\n",
              "\n",
              "    [theme=dark] .colab-df-convert:hover {\n",
              "      background-color: #434B5C;\n",
              "      box-shadow: 0px 1px 3px 1px rgba(0, 0, 0, 0.15);\n",
              "      filter: drop-shadow(0px 1px 2px rgba(0, 0, 0, 0.3));\n",
              "      fill: #FFFFFF;\n",
              "    }\n",
              "  </style>\n",
              "\n",
              "      <script>\n",
              "        const buttonEl =\n",
              "          document.querySelector('#df-6ff9e851-866a-48d8-a964-2189e6d905be button.colab-df-convert');\n",
              "        buttonEl.style.display =\n",
              "          google.colab.kernel.accessAllowed ? 'block' : 'none';\n",
              "\n",
              "        async function convertToInteractive(key) {\n",
              "          const element = document.querySelector('#df-6ff9e851-866a-48d8-a964-2189e6d905be');\n",
              "          const dataTable =\n",
              "            await google.colab.kernel.invokeFunction('convertToInteractive',\n",
              "                                                     [key], {});\n",
              "          if (!dataTable) return;\n",
              "\n",
              "          const docLinkHtml = 'Like what you see? Visit the ' +\n",
              "            '<a target=\"_blank\" href=https://colab.research.google.com/notebooks/data_table.ipynb>data table notebook</a>'\n",
              "            + ' to learn more about interactive tables.';\n",
              "          element.innerHTML = '';\n",
              "          dataTable['output_type'] = 'display_data';\n",
              "          await google.colab.output.renderOutput(dataTable, element);\n",
              "          const docLink = document.createElement('div');\n",
              "          docLink.innerHTML = docLinkHtml;\n",
              "          element.appendChild(docLink);\n",
              "        }\n",
              "      </script>\n",
              "    </div>\n",
              "  </div>\n",
              "  "
            ]
          },
          "metadata": {},
          "execution_count": 21
        }
      ]
    },
    {
      "cell_type": "code",
      "source": [
        "# Calculate evaluation metrics\n",
        "dt_mae = mean_absolute_error(y_test, y_pred)\n",
        "dt_mse = mean_squared_error(y_test, y_pred)\n",
        "dt_rmse = np.sqrt(dt_mse)\n",
        "dt_r2 = r2_score(y_test, y_pred)\n",
        "\n",
        "print(\"Mean Absolute Error (MAE):\", dt_mae)\n",
        "print(\"Mean Squared Error (MSE):\", dt_mse)\n",
        "print(\"Root Mean Squared Error (RMSE):\", dt_rmse)\n",
        "print(\"R-squared (R2) Score:\", dt_r2)"
      ],
      "metadata": {
        "colab": {
          "base_uri": "https://localhost:8080/"
        },
        "id": "HwjF7YywJFtm",
        "outputId": "9e15177c-7b29-4e5c-a8ca-6672b16e69a5"
      },
      "execution_count": 22,
      "outputs": [
        {
          "output_type": "stream",
          "name": "stdout",
          "text": [
            "Mean Absolute Error (MAE): 48.368750000000006\n",
            "Mean Squared Error (MSE): 8100.168125\n",
            "Root Mean Squared Error (RMSE): 90.00093402293112\n",
            "R-squared (R2) Score: 0.943052525745978\n"
          ]
        }
      ]
    },
    {
      "cell_type": "code",
      "source": [
        "plt.scatter(y_test, y_pred)\n",
        "plt.plot([min(y_test), max(y_test)], [min(y_test), max(y_test)], 'k--', color='r')\n",
        "plt.xlabel('Actual Weight')\n",
        "plt.ylabel('Predicted Weight')\n",
        "plt.title('Actual vs. Predicted Weight')\n",
        "plt.show()\n"
      ],
      "metadata": {
        "colab": {
          "base_uri": "https://localhost:8080/",
          "height": 527
        },
        "id": "OtyMXJ7LnABT",
        "outputId": "77ac6feb-741d-4623-b0c4-4a93f01809f4"
      },
      "execution_count": 23,
      "outputs": [
        {
          "output_type": "stream",
          "name": "stderr",
          "text": [
            "<ipython-input-23-6cc4f8483450>:2: UserWarning: color is redundantly defined by the 'color' keyword argument and the fmt string \"k--\" (-> color='k'). The keyword argument will take precedence.\n",
            "  plt.plot([min(y_test), max(y_test)], [min(y_test), max(y_test)], 'k--', color='r')\n"
          ]
        },
        {
          "output_type": "display_data",
          "data": {
            "text/plain": [
              "<Figure size 640x480 with 1 Axes>"
            ],
            "image/png": "[encoded data removed]"
          },
          "metadata": {}
        }
      ]
    },
    {
      "cell_type": "code",
      "source": [
        "residuals = y_test - y_pred\n",
        "sns.histplot(residuals, kde=True)\n",
        "plt.xlabel('Residuals')\n",
        "plt.ylabel('Frequency')\n",
        "plt.title('Distribution of Residuals for DT Model')\n",
        "plt.show()\n"
      ],
      "metadata": {
        "colab": {
          "base_uri": "https://localhost:8080/",
          "height": 472
        },
        "id": "KRKgnAR7npRS",
        "outputId": "83041f81-cfe0-44ec-ef93-989e9d3b9510"
      },
      "execution_count": 24,
      "outputs": [
        {
          "output_type": "display_data",
          "data": {
            "text/plain": [
              "<Figure size 640x480 with 1 Axes>"
            ],
            "image/png": "[encoded data removed]"
          },
          "metadata": {}
        }
      ]
    },
    {
      "cell_type": "code",
      "source": [
        "# Visualization\n",
        "# Visualize the decision tree\n",
        "plt.figure(figsize=(10, 8))\n",
        "plot_tree(model, filled=True)"
      ],
      "metadata": {
        "colab": {
          "base_uri": "https://localhost:8080/",
          "height": 1000
        },
        "id": "IThKtOIkmg5X",
        "outputId": "5e44ed79-bc7f-4776-b43a-8a76a8007bbb"
      },
      "execution_count": 25,
      "outputs": [
        {
          "output_type": "execute_result",
          "data": {
            "text/plain": [
              "[Text(0.6450482536764706, 0.9615384615384616, 'x[2] <= 0.603\\nsquared_error = 122928.22\\nsamples = 127\\nvalue = 386.794'),\n",
              " Text(0.38269761029411764, 0.8846153846153846, 'x[0] <= 0.318\\nsquared_error = 20583.394\\nsamples = 88\\nvalue = 192.203'),\n",
              " Text(0.20105698529411764, 0.8076923076923077, 'x[2] <= 0.265\\nsquared_error = 3365.56\\nsamples = 56\\nvalue = 98.57'),\n",
              " Text(0.10202205882352941, 0.7307692307692307, 'x[0] <= 0.128\\nsquared_error = 779.015\\nsamples = 20\\nvalue = 35.795'),\n",
              " Text(0.06801470588235294, 0.6538461538461539, 'x[1] <= 0.075\\nsquared_error = 136.996\\nsamples = 13\\nvalue = 17.492'),\n",
              " Text(0.04779411764705882, 0.5769230769230769, 'x[1] <= 0.036\\nsquared_error = 20.298\\nsamples = 10\\nvalue = 11.54'),\n",
              " Text(0.029411764705882353, 0.5, 'x[0] <= 0.051\\nsquared_error = 4.049\\nsamples = 8\\nvalue = 9.475'),\n",
              " Text(0.014705882352941176, 0.4230769230769231, 'x[1] <= 0.004\\nsquared_error = 0.64\\nsamples = 2\\nvalue = 6.7'),\n",
              " Text(0.007352941176470588, 0.34615384615384615, 'squared_error = 0.0\\nsamples = 1\\nvalue = 7.5'),\n",
              " Text(0.022058823529411766, 0.34615384615384615, 'squared_error = 0.0\\nsamples = 1\\nvalue = 5.9'),\n",
              " Text(0.04411764705882353, 0.4230769230769231, 'x[0] <= 0.076\\nsquared_error = 1.763\\nsamples = 6\\nvalue = 10.4'),\n",
              " Text(0.03676470588235294, 0.34615384615384615, 'x[1] <= 0.003\\nsquared_error = 0.215\\nsamples = 4\\nvalue = 9.5'),\n",
              " Text(0.029411764705882353, 0.2692307692307692, 'squared_error = 0.0\\nsamples = 1\\nvalue = 8.7'),\n",
              " Text(0.04411764705882353, 0.2692307692307692, 'x[2] <= 0.027\\nsquared_error = 0.002\\nsamples = 3\\nvalue = 9.767'),\n",
              " Text(0.03676470588235294, 0.19230769230769232, 'squared_error = 0.0\\nsamples = 2\\nvalue = 9.8'),\n",
              " Text(0.051470588235294115, 0.19230769230769232, 'squared_error = -0.0\\nsamples = 1\\nvalue = 9.7'),\n",
              " Text(0.051470588235294115, 0.34615384615384615, 'squared_error = -0.0\\nsamples = 2\\nvalue = 12.2'),\n",
              " Text(0.0661764705882353, 0.5, 'x[0] <= 0.117\\nsquared_error = 0.01\\nsamples = 2\\nvalue = 19.8'),\n",
              " Text(0.058823529411764705, 0.4230769230769231, 'squared_error = 0.0\\nsamples = 1\\nvalue = 19.7'),\n",
              " Text(0.07352941176470588, 0.4230769230769231, 'squared_error = 0.0\\nsamples = 1\\nvalue = 19.9'),\n",
              " Text(0.08823529411764706, 0.5769230769230769, 'x[2] <= 0.148\\nsquared_error = 14.222\\nsamples = 3\\nvalue = 37.333'),\n",
              " Text(0.08088235294117647, 0.5, 'squared_error = 0.0\\nsamples = 1\\nvalue = 32.0'),\n",
              " Text(0.09558823529411764, 0.5, 'squared_error = 0.0\\nsamples = 2\\nvalue = 40.0'),\n",
              " Text(0.13602941176470587, 0.6538461538461539, 'x[0] <= 0.166\\nsquared_error = 193.847\\nsamples = 7\\nvalue = 69.786'),\n",
              " Text(0.11764705882352941, 0.5769230769230769, 'x[0] <= 0.144\\nsquared_error = 12.167\\nsamples = 3\\nvalue = 55.5'),\n",
              " Text(0.11029411764705882, 0.5, 'x[1] <= 0.223\\nsquared_error = 3.062\\nsamples = 2\\nvalue = 53.25'),\n",
              " Text(0.10294117647058823, 0.4230769230769231, 'squared_error = 0.0\\nsamples = 1\\nvalue = 51.5'),\n",
              " Text(0.11764705882352941, 0.4230769230769231, 'squared_error = 0.0\\nsamples = 1\\nvalue = 55.0'),\n",
              " Text(0.125, 0.5, 'squared_error = 0.0\\nsamples = 1\\nvalue = 60.0'),\n",
              " Text(0.15441176470588236, 0.5769230769230769, 'x[2] <= 0.248\\nsquared_error = 62.25\\nsamples = 4\\nvalue = 80.5'),\n",
              " Text(0.13970588235294118, 0.5, 'x[0] <= 0.196\\nsquared_error = 6.25\\nsamples = 2\\nvalue = 87.5'),\n",
              " Text(0.1323529411764706, 0.4230769230769231, 'squared_error = 0.0\\nsamples = 1\\nvalue = 90.0'),\n",
              " Text(0.14705882352941177, 0.4230769230769231, 'squared_error = 0.0\\nsamples = 1\\nvalue = 85.0'),\n",
              " Text(0.16911764705882354, 0.5, 'x[2] <= 0.258\\nsquared_error = 20.25\\nsamples = 2\\nvalue = 73.5'),\n",
              " Text(0.16176470588235295, 0.4230769230769231, 'squared_error = 0.0\\nsamples = 1\\nvalue = 69.0'),\n",
              " Text(0.17647058823529413, 0.4230769230769231, 'squared_error = 0.0\\nsamples = 1\\nvalue = 78.0'),\n",
              " Text(0.3000919117647059, 0.7307692307692307, 'x[0] <= 0.242\\nsquared_error = 1397.025\\nsamples = 36\\nvalue = 133.444'),\n",
              " Text(0.23161764705882354, 0.6538461538461539, 'x[2] <= 0.335\\nsquared_error = 1126.417\\nsamples = 12\\nvalue = 98.5'),\n",
              " Text(0.21323529411764705, 0.5769230769230769, 'x[0] <= 0.234\\nsquared_error = 1370.694\\nsamples = 7\\nvalue = 83.857'),\n",
              " Text(0.20588235294117646, 0.5, 'x[1] <= 0.227\\nsquared_error = 231.806\\nsamples = 6\\nvalue = 97.833'),\n",
              " Text(0.19117647058823528, 0.4230769230769231, 'x[2] <= 0.316\\nsquared_error = 54.5\\nsamples = 4\\nvalue = 88.0'),\n",
              " Text(0.18382352941176472, 0.34615384615384615, 'x[0] <= 0.198\\nsquared_error = 8.667\\nsamples = 3\\nvalue = 84.0'),\n",
              " Text(0.17647058823529413, 0.2692307692307692, 'squared_error = 0.0\\nsamples = 1\\nvalue = 80.0'),\n",
              " Text(0.19117647058823528, 0.2692307692307692, 'x[1] <= 0.203\\nsquared_error = 1.0\\nsamples = 2\\nvalue = 86.0'),\n",
              " Text(0.18382352941176472, 0.19230769230769232, 'squared_error = 0.0\\nsamples = 1\\nvalue = 85.0'),\n",
              " Text(0.19852941176470587, 0.19230769230769232, 'squared_error = 0.0\\nsamples = 1\\nvalue = 87.0'),\n",
              " Text(0.19852941176470587, 0.34615384615384615, 'squared_error = 0.0\\nsamples = 1\\nvalue = 100.0'),\n",
              " Text(0.22058823529411764, 0.4230769230769231, 'x[1] <= 0.309\\nsquared_error = 6.25\\nsamples = 2\\nvalue = 117.5'),\n",
              " Text(0.21323529411764705, 0.34615384615384615, 'squared_error = 0.0\\nsamples = 1\\nvalue = 115.0'),\n",
              " Text(0.22794117647058823, 0.34615384615384615, 'squared_error = 0.0\\nsamples = 1\\nvalue = 120.0'),\n",
              " Text(0.22058823529411764, 0.5, 'squared_error = 0.0\\nsamples = 1\\nvalue = 0.0'),\n",
              " Text(0.25, 0.5769230769230769, 'x[1] <= 0.258\\nsquared_error = 64.0\\nsamples = 5\\nvalue = 119.0'),\n",
              " Text(0.2426470588235294, 0.5, 'x[2] <= 0.363\\nsquared_error = 42.188\\nsamples = 4\\nvalue = 116.25'),\n",
              " Text(0.23529411764705882, 0.4230769230769231, 'squared_error = 0.0\\nsamples = 2\\nvalue = 110.0'),\n",
              " Text(0.25, 0.4230769230769231, 'x[0] <= 0.229\\nsquared_error = 6.25\\nsamples = 2\\nvalue = 122.5'),\n",
              " Text(0.2426470588235294, 0.34615384615384615, 'squared_error = 0.0\\nsamples = 1\\nvalue = 120.0'),\n",
              " Text(0.25735294117647056, 0.34615384615384615, 'squared_error = 0.0\\nsamples = 1\\nvalue = 125.0'),\n",
              " Text(0.25735294117647056, 0.5, 'squared_error = 0.0\\nsamples = 1\\nvalue = 130.0'),\n",
              " Text(0.36856617647058826, 0.6538461538461539, 'x[0] <= 0.285\\nsquared_error = 616.493\\nsamples = 24\\nvalue = 150.917'),\n",
              " Text(0.32536764705882354, 0.5769230769230769, 'x[1] <= 0.255\\nsquared_error = 240.201\\nsamples = 18\\nvalue = 139.722'),\n",
              " Text(0.29411764705882354, 0.5, 'x[0] <= 0.258\\nsquared_error = 148.765\\nsamples = 9\\nvalue = 128.889'),\n",
              " Text(0.27941176470588236, 0.4230769230769231, 'x[2] <= 0.4\\nsquared_error = 62.245\\nsamples = 7\\nvalue = 123.571'),\n",
              " Text(0.27205882352941174, 0.34615384615384615, 'x[2] <= 0.349\\nsquared_error = 36.806\\nsamples = 6\\nvalue = 125.833'),\n",
              " Text(0.2647058823529412, 0.2692307692307692, 'squared_error = 0.0\\nsamples = 2\\nvalue = 120.0'),\n",
              " Text(0.27941176470588236, 0.2692307692307692, 'x[1] <= 0.225\\nsquared_error = 29.688\\nsamples = 4\\nvalue = 128.75'),\n",
              " Text(0.27205882352941174, 0.19230769230769232, 'squared_error = 0.0\\nsamples = 1\\nvalue = 120.0'),\n",
              " Text(0.2867647058823529, 0.19230769230769232, 'x[2] <= 0.365\\nsquared_error = 5.556\\nsamples = 3\\nvalue = 131.667'),\n",
              " Text(0.27941176470588236, 0.11538461538461539, 'x[1] <= 0.24\\nsquared_error = 6.25\\nsamples = 2\\nvalue = 132.5'),\n",
              " Text(0.27205882352941174, 0.038461538461538464, 'squared_error = 0.0\\nsamples = 1\\nvalue = 135.0'),\n",
              " Text(0.2867647058823529, 0.038461538461538464, 'squared_error = 0.0\\nsamples = 1\\nvalue = 130.0'),\n",
              " Text(0.29411764705882354, 0.11538461538461539, 'squared_error = 0.0\\nsamples = 1\\nvalue = 130.0'),\n",
              " Text(0.2867647058823529, 0.34615384615384615, 'squared_error = 0.0\\nsamples = 1\\nvalue = 110.0'),\n",
              " Text(0.3088235294117647, 0.4230769230769231, 'x[0] <= 0.264\\nsquared_error = 6.25\\nsamples = 2\\nvalue = 147.5'),\n",
              " Text(0.3014705882352941, 0.34615384615384615, 'squared_error = 0.0\\nsamples = 1\\nvalue = 145.0'),\n",
              " Text(0.3161764705882353, 0.34615384615384615, 'squared_error = 0.0\\nsamples = 1\\nvalue = 150.0'),\n",
              " Text(0.35661764705882354, 0.5, 'x[2] <= 0.334\\nsquared_error = 96.914\\nsamples = 9\\nvalue = 150.556'),\n",
              " Text(0.3382352941176471, 0.4230769230769231, 'x[2] <= 0.313\\nsquared_error = 5.556\\nsamples = 3\\nvalue = 141.667'),\n",
              " Text(0.33088235294117646, 0.34615384615384615, 'squared_error = 0.0\\nsamples = 1\\nvalue = 145.0'),\n",
              " Text(0.34558823529411764, 0.34615384615384615, 'squared_error = 0.0\\nsamples = 2\\nvalue = 140.0'),\n",
              " Text(0.375, 0.4230769230769231, 'x[1] <= 0.294\\nsquared_error = 83.333\\nsamples = 6\\nvalue = 155.0'),\n",
              " Text(0.3602941176470588, 0.34615384615384615, 'x[0] <= 0.278\\nsquared_error = 37.5\\nsamples = 4\\nvalue = 150.0'),\n",
              " Text(0.35294117647058826, 0.2692307692307692, 'x[1] <= 0.271\\nsquared_error = 38.889\\nsamples = 3\\nvalue = 151.667'),\n",
              " Text(0.34558823529411764, 0.19230769230769232, 'squared_error = 0.0\\nsamples = 1\\nvalue = 160.0'),\n",
              " Text(0.3602941176470588, 0.19230769230769232, 'x[2] <= 0.367\\nsquared_error = 6.25\\nsamples = 2\\nvalue = 147.5'),\n",
              " Text(0.35294117647058826, 0.11538461538461539, 'squared_error = 0.0\\nsamples = 1\\nvalue = 145.0'),\n",
              " Text(0.36764705882352944, 0.11538461538461539, 'squared_error = 0.0\\nsamples = 1\\nvalue = 150.0'),\n",
              " Text(0.36764705882352944, 0.2692307692307692, 'squared_error = 0.0\\nsamples = 1\\nvalue = 145.0'),\n",
              " Text(0.3897058823529412, 0.34615384615384615, 'x[0] <= 0.261\\nsquared_error = 25.0\\nsamples = 2\\nvalue = 165.0'),\n",
              " Text(0.38235294117647056, 0.2692307692307692, 'squared_error = 0.0\\nsamples = 1\\nvalue = 170.0'),\n",
              " Text(0.39705882352941174, 0.2692307692307692, 'squared_error = 0.0\\nsamples = 1\\nvalue = 160.0'),\n",
              " Text(0.4117647058823529, 0.5769230769230769, 'x[2] <= 0.376\\nsquared_error = 241.583\\nsamples = 6\\nvalue = 184.5'),\n",
              " Text(0.40441176470588236, 0.5, 'squared_error = 0.0\\nsamples = 1\\nvalue = 161.0'),\n",
              " Text(0.41911764705882354, 0.5, 'x[0] <= 0.309\\nsquared_error = 157.36\\nsamples = 5\\nvalue = 189.2'),\n",
              " Text(0.4117647058823529, 0.4230769230769231, 'x[1] <= 0.27\\nsquared_error = 69.188\\nsamples = 4\\nvalue = 194.25'),\n",
              " Text(0.40441176470588236, 0.34615384615384615, 'squared_error = 0.0\\nsamples = 1\\nvalue = 180.0'),\n",
              " Text(0.41911764705882354, 0.34615384615384615, 'x[0] <= 0.306\\nsquared_error = 2.0\\nsamples = 3\\nvalue = 199.0'),\n",
              " Text(0.4117647058823529, 0.2692307692307692, 'squared_error = 0.0\\nsamples = 2\\nvalue = 200.0'),\n",
              " Text(0.4264705882352941, 0.2692307692307692, 'squared_error = 0.0\\nsamples = 1\\nvalue = 197.0'),\n",
              " Text(0.4264705882352941, 0.4230769230769231, 'squared_error = 0.0\\nsamples = 1\\nvalue = 169.0'),\n",
              " Text(0.5643382352941176, 0.8076923076923077, 'x[0] <= 0.401\\nsquared_error = 8522.059\\nsamples = 32\\nvalue = 356.062'),\n",
              " Text(0.5128676470588235, 0.7307692307692307, 'x[2] <= 0.519\\nsquared_error = 735.582\\nsamples = 15\\nvalue = 283.867'),\n",
              " Text(0.47058823529411764, 0.6538461538461539, 'x[1] <= 0.38\\nsquared_error = 378.543\\nsamples = 9\\nvalue = 268.889'),\n",
              " Text(0.45588235294117646, 0.5769230769230769, 'x[1] <= 0.313\\nsquared_error = 42.188\\nsamples = 4\\nvalue = 256.25'),\n",
              " Text(0.4485294117647059, 0.5, 'x[1] <= 0.306\\nsquared_error = 6.25\\nsamples = 2\\nvalue = 262.5'),\n",
              " Text(0.4411764705882353, 0.4230769230769231, 'squared_error = 0.0\\nsamples = 1\\nvalue = 265.0'),\n",
              " Text(0.45588235294117646, 0.4230769230769231, 'squared_error = 0.0\\nsamples = 1\\nvalue = 260.0'),\n",
              " Text(0.4632352941176471, 0.5, 'squared_error = 0.0\\nsamples = 2\\nvalue = 250.0'),\n",
              " Text(0.4852941176470588, 0.5769230769230769, 'x[2] <= 0.441\\nsquared_error = 417.6\\nsamples = 5\\nvalue = 279.0'),\n",
              " Text(0.47794117647058826, 0.5, 'squared_error = 0.0\\nsamples = 1\\nvalue = 242.0'),\n",
              " Text(0.49264705882352944, 0.5, 'x[2] <= 0.457\\nsquared_error = 94.188\\nsamples = 4\\nvalue = 288.25'),\n",
              " Text(0.4852941176470588, 0.4230769230769231, 'squared_error = 0.0\\nsamples = 1\\nvalue = 273.0'),\n",
              " Text(0.5, 0.4230769230769231, 'x[0] <= 0.343\\nsquared_error = 22.222\\nsamples = 3\\nvalue = 293.333'),\n",
              " Text(0.49264705882352944, 0.34615384615384615, 'squared_error = 0.0\\nsamples = 1\\nvalue = 300.0'),\n",
              " Text(0.5073529411764706, 0.34615384615384615, 'squared_error = 0.0\\nsamples = 2\\nvalue = 290.0'),\n",
              " Text(0.5551470588235294, 0.6538461538461539, 'x[0] <= 0.374\\nsquared_error = 429.889\\nsamples = 6\\nvalue = 306.333'),\n",
              " Text(0.5367647058823529, 0.5769230769230769, 'x[2] <= 0.538\\nsquared_error = 174.75\\nsamples = 4\\nvalue = 294.5'),\n",
              " Text(0.5220588235294118, 0.5, 'x[0] <= 0.366\\nsquared_error = 9.0\\nsamples = 2\\nvalue = 303.0'),\n",
              " Text(0.5147058823529411, 0.4230769230769231, 'squared_error = 0.0\\nsamples = 1\\nvalue = 300.0'),\n",
              " Text(0.5294117647058824, 0.4230769230769231, 'squared_error = 0.0\\nsamples = 1\\nvalue = 306.0'),\n",
              " Text(0.5514705882352942, 0.5, 'x[1] <= 0.386\\nsquared_error = 196.0\\nsamples = 2\\nvalue = 286.0'),\n",
              " Text(0.5441176470588235, 0.4230769230769231, 'squared_error = 0.0\\nsamples = 1\\nvalue = 300.0'),\n",
              " Text(0.5588235294117647, 0.4230769230769231, 'squared_error = 0.0\\nsamples = 1\\nvalue = 272.0'),\n",
              " Text(0.5735294117647058, 0.5769230769230769, 'x[0] <= 0.381\\nsquared_error = 100.0\\nsamples = 2\\nvalue = 330.0'),\n",
              " Text(0.5661764705882353, 0.5, 'squared_error = 0.0\\nsamples = 1\\nvalue = 340.0'),\n",
              " Text(0.5808823529411765, 0.5, 'squared_error = 0.0\\nsamples = 1\\nvalue = 320.0'),\n",
              " Text(0.6158088235294118, 0.7307692307692307, 'x[1] <= 0.28\\nsquared_error = 6735.474\\nsamples = 17\\nvalue = 419.765'),\n",
              " Text(0.5955882352941176, 0.6538461538461539, 'x[0] <= 0.534\\nsquared_error = 379.688\\nsamples = 4\\nvalue = 311.25'),\n",
              " Text(0.5882352941176471, 0.5769230769230769, 'squared_error = 0.0\\nsamples = 3\\nvalue = 300.0'),\n",
              " Text(0.6029411764705882, 0.5769230769230769, 'squared_error = 0.0\\nsamples = 1\\nvalue = 345.0'),\n",
              " Text(0.6360294117647058, 0.6538461538461539, 'x[0] <= 0.622\\nsquared_error = 3953.053\\nsamples = 13\\nvalue = 453.154'),\n",
              " Text(0.6176470588235294, 0.5769230769230769, 'x[1] <= 0.714\\nsquared_error = 2256.44\\nsamples = 10\\nvalue = 428.4'),\n",
              " Text(0.6029411764705882, 0.5, 'x[1] <= 0.702\\nsquared_error = 1715.388\\nsamples = 7\\nvalue = 408.429'),\n",
              " Text(0.5955882352941176, 0.4230769230769231, 'x[0] <= 0.421\\nsquared_error = 1090.806\\nsamples = 6\\nvalue = 419.833'),\n",
              " Text(0.5882352941176471, 0.34615384615384615, 'squared_error = 0.0\\nsamples = 1\\nvalue = 363.0'),\n",
              " Text(0.6029411764705882, 0.34615384615384615, 'x[0] <= 0.578\\nsquared_error = 533.76\\nsamples = 5\\nvalue = 431.2'),\n",
              " Text(0.5955882352941176, 0.2692307692307692, 'x[0] <= 0.44\\nsquared_error = 475.0\\nsamples = 4\\nvalue = 425.0'),\n",
              " Text(0.5808823529411765, 0.19230769230769232, 'x[0] <= 0.432\\nsquared_error = 100.0\\nsamples = 2\\nvalue = 440.0'),\n",
              " Text(0.5735294117647058, 0.11538461538461539, 'squared_error = 0.0\\nsamples = 1\\nvalue = 430.0'),\n",
              " Text(0.5882352941176471, 0.11538461538461539, 'squared_error = 0.0\\nsamples = 1\\nvalue = 450.0'),\n",
              " Text(0.6102941176470589, 0.19230769230769232, 'x[0] <= 0.489\\nsquared_error = 400.0\\nsamples = 2\\nvalue = 410.0'),\n",
              " Text(0.6029411764705882, 0.11538461538461539, 'squared_error = 0.0\\nsamples = 1\\nvalue = 390.0'),\n",
              " Text(0.6176470588235294, 0.11538461538461539, 'squared_error = 0.0\\nsamples = 1\\nvalue = 430.0'),\n",
              " Text(0.6102941176470589, 0.2692307692307692, 'squared_error = 0.0\\nsamples = 1\\nvalue = 456.0'),\n",
              " Text(0.6102941176470589, 0.4230769230769231, 'squared_error = 0.0\\nsamples = 1\\nvalue = 340.0'),\n",
              " Text(0.6323529411764706, 0.5, 'x[0] <= 0.454\\nsquared_error = 416.667\\nsamples = 3\\nvalue = 475.0'),\n",
              " Text(0.625, 0.4230769230769231, 'squared_error = 0.0\\nsamples = 1\\nvalue = 450.0'),\n",
              " Text(0.6397058823529411, 0.4230769230769231, 'x[2] <= 0.573\\nsquared_error = 156.25\\nsamples = 2\\nvalue = 487.5'),\n",
              " Text(0.6323529411764706, 0.34615384615384615, 'squared_error = 0.0\\nsamples = 1\\nvalue = 500.0'),\n",
              " Text(0.6470588235294118, 0.34615384615384615, 'squared_error = 0.0\\nsamples = 1\\nvalue = 475.0'),\n",
              " Text(0.6544117647058824, 0.5769230769230769, 'x[1] <= 0.322\\nsquared_error = 757.556\\nsamples = 3\\nvalue = 535.667'),\n",
              " Text(0.6470588235294118, 0.5, 'squared_error = 0.0\\nsamples = 1\\nvalue = 500.0'),\n",
              " Text(0.6617647058823529, 0.5, 'x[1] <= 0.347\\nsquared_error = 182.25\\nsamples = 2\\nvalue = 553.5'),\n",
              " Text(0.6544117647058824, 0.4230769230769231, 'squared_error = 0.0\\nsamples = 1\\nvalue = 540.0'),\n",
              " Text(0.6691176470588235, 0.4230769230769231, 'squared_error = 0.0\\nsamples = 1\\nvalue = 567.0'),\n",
              " Text(0.9073988970588235, 0.8846153846153846, 'x[0] <= 0.857\\nsquared_error = 75630.727\\nsamples = 39\\nvalue = 825.872'),\n",
              " Text(0.8515625, 0.8076923076923077, 'x[0] <= 0.553\\nsquared_error = 27693.231\\nsamples = 36\\nvalue = 761.361'),\n",
              " Text(0.7619485294117647, 0.7307692307692307, 'x[0] <= 0.481\\nsquared_error = 13486.064\\nsamples = 23\\nvalue = 665.391'),\n",
              " Text(0.6985294117647058, 0.6538461538461539, 'x[1] <= 0.464\\nsquared_error = 4227.556\\nsamples = 6\\nvalue = 516.667'),\n",
              " Text(0.6911764705882353, 0.5769230769230769, 'squared_error = 0.0\\nsamples = 1\\nvalue = 390.0'),\n",
              " Text(0.7058823529411765, 0.5769230769230769, 'x[0] <= 0.451\\nsquared_error = 1222.4\\nsamples = 5\\nvalue = 542.0'),\n",
              " Text(0.6911764705882353, 0.5, 'x[2] <= 0.773\\nsquared_error = 274.667\\nsamples = 3\\nvalue = 518.0'),\n",
              " Text(0.6838235294117647, 0.4230769230769231, 'x[2] <= 0.677\\nsquared_error = 49.0\\nsamples = 2\\nvalue = 507.0'),\n",
              " Text(0.6764705882352942, 0.34615384615384615, 'squared_error = 0.0\\nsamples = 1\\nvalue = 500.0'),\n",
              " Text(0.6911764705882353, 0.34615384615384615, 'squared_error = 0.0\\nsamples = 1\\nvalue = 514.0'),\n",
              " Text(0.6985294117647058, 0.4230769230769231, 'squared_error = 0.0\\nsamples = 1\\nvalue = 540.0'),\n",
              " Text(0.7205882352941176, 0.5, 'x[1] <= 0.634\\nsquared_error = 484.0\\nsamples = 2\\nvalue = 578.0'),\n",
              " Text(0.7132352941176471, 0.4230769230769231, 'squared_error = 0.0\\nsamples = 1\\nvalue = 556.0'),\n",
              " Text(0.7279411764705882, 0.4230769230769231, 'squared_error = 0.0\\nsamples = 1\\nvalue = 600.0'),\n",
              " Text(0.8253676470588235, 0.6538461538461539, 'x[2] <= 0.896\\nsquared_error = 6191.751\\nsamples = 17\\nvalue = 717.882'),\n",
              " Text(0.7904411764705882, 0.5769230769230769, 'x[2] <= 0.686\\nsquared_error = 2496.98\\nsamples = 14\\nvalue = 688.857'),\n",
              " Text(0.7573529411764706, 0.5, 'x[0] <= 0.516\\nsquared_error = 2537.5\\nsamples = 4\\nvalue = 645.0'),\n",
              " Text(0.7426470588235294, 0.4230769230769231, 'x[1] <= 0.804\\nsquared_error = 56.25\\nsamples = 2\\nvalue = 692.5'),\n",
              " Text(0.7352941176470589, 0.34615384615384615, 'squared_error = 0.0\\nsamples = 1\\nvalue = 700.0'),\n",
              " Text(0.75, 0.34615384615384615, 'squared_error = 0.0\\nsamples = 1\\nvalue = 685.0'),\n",
              " Text(0.7720588235294118, 0.4230769230769231, 'x[0] <= 0.52\\nsquared_error = 506.25\\nsamples = 2\\nvalue = 597.5'),\n",
              " Text(0.7647058823529411, 0.34615384615384615, 'squared_error = 0.0\\nsamples = 1\\nvalue = 575.0'),\n",
              " Text(0.7794117647058824, 0.34615384615384615, 'squared_error = 0.0\\nsamples = 1\\nvalue = 620.0'),\n",
              " Text(0.8235294117647058, 0.5, 'x[1] <= 0.565\\nsquared_error = 1403.64\\nsamples = 10\\nvalue = 706.4'),\n",
              " Text(0.8014705882352942, 0.4230769230769231, 'x[2] <= 0.75\\nsquared_error = 340.0\\nsamples = 5\\nvalue = 685.0'),\n",
              " Text(0.7941176470588235, 0.34615384615384615, 'squared_error = 0.0\\nsamples = 1\\nvalue = 650.0'),\n",
              " Text(0.8088235294117647, 0.34615384615384615, 'x[2] <= 0.851\\nsquared_error = 42.188\\nsamples = 4\\nvalue = 693.75'),\n",
              " Text(0.8014705882352942, 0.2692307692307692, 'x[1] <= 0.514\\nsquared_error = 22.222\\nsamples = 3\\nvalue = 696.667'),\n",
              " Text(0.7941176470588235, 0.19230769230769232, 'squared_error = 0.0\\nsamples = 1\\nvalue = 690.0'),\n",
              " Text(0.8088235294117647, 0.19230769230769232, 'squared_error = 0.0\\nsamples = 2\\nvalue = 700.0'),\n",
              " Text(0.8161764705882353, 0.2692307692307692, 'squared_error = 0.0\\nsamples = 1\\nvalue = 685.0'),\n",
              " Text(0.8455882352941176, 0.4230769230769231, 'x[2] <= 0.783\\nsquared_error = 1551.36\\nsamples = 5\\nvalue = 727.8'),\n",
              " Text(0.8382352941176471, 0.34615384615384615, 'x[2] <= 0.746\\nsquared_error = 310.188\\nsamples = 4\\nvalue = 709.75'),\n",
              " Text(0.8308823529411765, 0.2692307692307692, 'x[1] <= 0.862\\nsquared_error = 20.222\\nsamples = 3\\nvalue = 719.667'),\n",
              " Text(0.8235294117647058, 0.19230769230769232, 'x[1] <= 0.857\\nsquared_error = 6.25\\nsamples = 2\\nvalue = 722.5'),\n",
              " Text(0.8161764705882353, 0.11538461538461539, 'squared_error = 0.0\\nsamples = 1\\nvalue = 725.0'),\n",
              " Text(0.8308823529411765, 0.11538461538461539, 'squared_error = 0.0\\nsamples = 1\\nvalue = 720.0'),\n",
              " Text(0.8382352941176471, 0.19230769230769232, 'squared_error = 0.0\\nsamples = 1\\nvalue = 714.0'),\n",
              " Text(0.8455882352941176, 0.2692307692307692, 'squared_error = 0.0\\nsamples = 1\\nvalue = 680.0'),\n",
              " Text(0.8529411764705882, 0.34615384615384615, 'squared_error = 0.0\\nsamples = 1\\nvalue = 800.0'),\n",
              " Text(0.8602941176470589, 0.5769230769230769, 'x[1] <= 0.557\\nsquared_error = 1155.556\\nsamples = 3\\nvalue = 853.333'),\n",
              " Text(0.8529411764705882, 0.5, 'squared_error = 0.0\\nsamples = 1\\nvalue = 900.0'),\n",
              " Text(0.8676470588235294, 0.5, 'x[2] <= 0.967\\nsquared_error = 100.0\\nsamples = 2\\nvalue = 830.0'),\n",
              " Text(0.8602941176470589, 0.4230769230769231, 'squared_error = 0.0\\nsamples = 1\\nvalue = 820.0'),\n",
              " Text(0.875, 0.4230769230769231, 'squared_error = 0.0\\nsamples = 1\\nvalue = 840.0'),\n",
              " Text(0.9411764705882353, 0.7307692307692307, 'x[1] <= 0.593\\nsquared_error = 7704.438\\nsamples = 13\\nvalue = 931.154'),\n",
              " Text(0.9191176470588235, 0.6538461538461539, 'x[0] <= 0.749\\nsquared_error = 3896.0\\nsamples = 5\\nvalue = 858.0'),\n",
              " Text(0.9117647058823529, 0.5769230769230769, 'x[2] <= 0.86\\nsquared_error = 2225.0\\nsamples = 4\\nvalue = 835.0'),\n",
              " Text(0.8970588235294118, 0.5, 'x[1] <= 0.443\\nsquared_error = 625.0\\nsamples = 2\\nvalue = 795.0'),\n",
              " Text(0.8897058823529411, 0.4230769230769231, 'squared_error = 0.0\\nsamples = 1\\nvalue = 770.0'),\n",
              " Text(0.9044117647058824, 0.4230769230769231, 'squared_error = 0.0\\nsamples = 1\\nvalue = 820.0'),\n",
              " Text(0.9264705882352942, 0.5, 'x[1] <= 0.587\\nsquared_error = 625.0\\nsamples = 2\\nvalue = 875.0'),\n",
              " Text(0.9191176470588235, 0.4230769230769231, 'squared_error = 0.0\\nsamples = 1\\nvalue = 900.0'),\n",
              " Text(0.9338235294117647, 0.4230769230769231, 'squared_error = 0.0\\nsamples = 1\\nvalue = 850.0'),\n",
              " Text(0.9264705882352942, 0.5769230769230769, 'squared_error = 0.0\\nsamples = 1\\nvalue = 950.0'),\n",
              " Text(0.9632352941176471, 0.6538461538461539, 'x[2] <= 0.852\\nsquared_error = 4649.609\\nsamples = 8\\nvalue = 976.875'),\n",
              " Text(0.9485294117647058, 0.5769230769230769, 'x[2] <= 0.773\\nsquared_error = 2187.5\\nsamples = 4\\nvalue = 925.0'),\n",
              " Text(0.9411764705882353, 0.5, 'squared_error = 0.0\\nsamples = 1\\nvalue = 850.0'),\n",
              " Text(0.9558823529411765, 0.5, 'x[2] <= 0.842\\nsquared_error = 416.667\\nsamples = 3\\nvalue = 950.0'),\n",
              " Text(0.9485294117647058, 0.4230769230769231, 'x[2] <= 0.814\\nsquared_error = 156.25\\nsamples = 2\\nvalue = 962.5'),\n",
              " Text(0.9411764705882353, 0.34615384615384615, 'squared_error = 0.0\\nsamples = 1\\nvalue = 950.0'),\n",
              " Text(0.9558823529411765, 0.34615384615384615, 'squared_error = 0.0\\nsamples = 1\\nvalue = 975.0'),\n",
              " Text(0.9632352941176471, 0.4230769230769231, 'squared_error = 0.0\\nsamples = 1\\nvalue = 925.0'),\n",
              " Text(0.9779411764705882, 0.5769230769230769, 'x[2] <= 0.891\\nsquared_error = 1729.688\\nsamples = 4\\nvalue = 1028.75'),\n",
              " Text(0.9705882352941176, 0.5, 'squared_error = 0.0\\nsamples = 1\\nvalue = 1100.0'),\n",
              " Text(0.9852941176470589, 0.5, 'x[0] <= 0.591\\nsquared_error = 50.0\\nsamples = 3\\nvalue = 1005.0'),\n",
              " Text(0.9779411764705882, 0.4230769230769231, 'squared_error = 0.0\\nsamples = 1\\nvalue = 1015.0'),\n",
              " Text(0.9926470588235294, 0.4230769230769231, 'squared_error = 0.0\\nsamples = 2\\nvalue = 1000.0'),\n",
              " Text(0.9632352941176471, 0.8076923076923077, 'x[2] <= 0.852\\nsquared_error = 1666.667\\nsamples = 3\\nvalue = 1600.0'),\n",
              " Text(0.9558823529411765, 0.7307692307692307, 'squared_error = 625.0\\nsamples = 2\\nvalue = 1575.0'),\n",
              " Text(0.9705882352941176, 0.7307692307692307, 'squared_error = 0.0\\nsamples = 1\\nvalue = 1650.0')]"
            ]
          },
          "metadata": {},
          "execution_count": 25
        },
        {
          "output_type": "display_data",
          "data": {
            "text/plain": [
              "<Figure size 1000x800 with 1 Axes>"
            ],
            "image/png": "[encoded data removed]"
          },
          "metadata": {}
        }
      ]
    },
    {
      "cell_type": "code",
      "source": [
        "# Create a heatmap of feature correlations\n",
        "X_selected=pd.DataFrame(X_selected)\n",
        "corr = X_selected.corr()\n",
        "plt.figure(figsize=(8, 6))\n",
        "sns.heatmap(corr, annot=True, cmap='coolwarm')\n",
        "plt.title"
      ],
      "metadata": {
        "colab": {
          "base_uri": "https://localhost:8080/",
          "height": 545
        },
        "id": "W1nGbWvQpwH7",
        "outputId": "fc5455cd-8f81-4b44-c360-be85bb84742b"
      },
      "execution_count": 26,
      "outputs": [
        {
          "output_type": "execute_result",
          "data": {
            "text/plain": [
              "<function matplotlib.pyplot.title(label, fontdict=None, loc=None, pad=None, *, y=None, **kwargs)>"
            ]
          },
          "metadata": {},
          "execution_count": 26
        },
        {
          "output_type": "display_data",
          "data": {
            "text/plain": [
              "<Figure size 800x600 with 2 Axes>"
            ],
            "image/png": "[encoded data removed]"
          },
          "metadata": {}
        }
      ]
    },
    {
      "cell_type": "markdown",
      "source": [
        "**Random Forest Model**"
      ],
      "metadata": {
        "id": "bjjbACBirDeT"
      }
    },
    {
      "cell_type": "code",
      "source": [
        "from sklearn.ensemble import RandomForestRegressor"
      ],
      "metadata": {
        "id": "2IXP3jD0qfBg"
      },
      "execution_count": 27,
      "outputs": []
    },
    {
      "cell_type": "code",
      "source": [
        "# Build a Random Forest Regressor model\n",
        "rf_model = RandomForestRegressor(random_state=42)\n",
        "rf_model.fit(X_train_scaled, y_train)"
      ],
      "metadata": {
        "colab": {
          "base_uri": "https://localhost:8080/",
          "height": 74
        },
        "id": "SfZJIoLzrB3Q",
        "outputId": "c6b8ce1a-940b-40ae-aa44-366693c3e00c"
      },
      "execution_count": 28,
      "outputs": [
        {
          "output_type": "execute_result",
          "data": {
            "text/plain": [
              "RandomForestRegressor(random_state=42)"
            ],
            "text/html": [
              "<style>#sk-container-id-2 {color: black;background-color: white;}#sk-container-id-2 pre{padding: 0;}#sk-container-id-2 div.sk-toggleable {background-color: white;}#sk-container-id-2 label.sk-toggleable__label {cursor: pointer;display: block;width: 100%;margin-bottom: 0;padding: 0.3em;box-sizing: border-box;text-align: center;}#sk-container-id-2 label.sk-toggleable__label-arrow:before {content: \"▸\";float: left;margin-right: 0.25em;color: #696969;}#sk-container-id-2 label.sk-toggleable__label-arrow:hover:before {color: black;}#sk-container-id-2 div.sk-estimator:hover label.sk-toggleable__label-arrow:before {color: black;}#sk-container-id-2 div.sk-toggleable__content {max-height: 0;max-width: 0;overflow: hidden;text-align: left;background-color: #f0f8ff;}#sk-container-id-2 div.sk-toggleable__content pre {margin: 0.2em;color: black;border-radius: 0.25em;background-color: #f0f8ff;}#sk-container-id-2 input.sk-toggleable__control:checked~div.sk-toggleable__content {max-height: 200px;max-width: 100%;overflow: auto;}#sk-container-id-2 input.sk-toggleable__control:checked~label.sk-toggleable__label-arrow:before {content: \"▾\";}#sk-container-id-2 div.sk-estimator input.sk-toggleable__control:checked~label.sk-toggleable__label {background-color: #d4ebff;}#sk-container-id-2 div.sk-label input.sk-toggleable__control:checked~label.sk-toggleable__label {background-color: #d4ebff;}#sk-container-id-2 input.sk-hidden--visually {border: 0;clip: rect(1px 1px 1px 1px);clip: rect(1px, 1px, 1px, 1px);height: 1px;margin: -1px;overflow: hidden;padding: 0;position: absolute;width: 1px;}#sk-container-id-2 div.sk-estimator {font-family: monospace;background-color: #f0f8ff;border: 1px dotted black;border-radius: 0.25em;box-sizing: border-box;margin-bottom: 0.5em;}#sk-container-id-2 div.sk-estimator:hover {background-color: #d4ebff;}#sk-container-id-2 div.sk-parallel-item::after {content: \"\";width: 100%;border-bottom: 1px solid gray;flex-grow: 1;}#sk-container-id-2 div.sk-label:hover label.sk-toggleable__label {background-color: #d4ebff;}#sk-container-id-2 div.sk-serial::before {content: \"\";position: absolute;border-left: 1px solid gray;box-sizing: border-box;top: 0;bottom: 0;left: 50%;z-index: 0;}#sk-container-id-2 div.sk-serial {display: flex;flex-direction: column;align-items: center;background-color: white;padding-right: 0.2em;padding-left: 0.2em;position: relative;}#sk-container-id-2 div.sk-item {position: relative;z-index: 1;}#sk-container-id-2 div.sk-parallel {display: flex;align-items: stretch;justify-content: center;background-color: white;position: relative;}#sk-container-id-2 div.sk-item::before, #sk-container-id-2 div.sk-parallel-item::before {content: \"\";position: absolute;border-left: 1px solid gray;box-sizing: border-box;top: 0;bottom: 0;left: 50%;z-index: -1;}#sk-container-id-2 div.sk-parallel-item {display: flex;flex-direction: column;z-index: 1;position: relative;background-color: white;}#sk-container-id-2 div.sk-parallel-item:first-child::after {align-self: flex-end;width: 50%;}#sk-container-id-2 div.sk-parallel-item:last-child::after {align-self: flex-start;width: 50%;}#sk-container-id-2 div.sk-parallel-item:only-child::after {width: 0;}#sk-container-id-2 div.sk-dashed-wrapped {border: 1px dashed gray;margin: 0 0.4em 0.5em 0.4em;box-sizing: border-box;padding-bottom: 0.4em;background-color: white;}#sk-container-id-2 div.sk-label label {font-family: monospace;font-weight: bold;display: inline-block;line-height: 1.2em;}#sk-container-id-2 div.sk-label-container {text-align: center;}#sk-container-id-2 div.sk-container {/* jupyter's `normalize.less` sets `[hidden] { display: none; }` but bootstrap.min.css set `[hidden] { display: none !important; }` so we also need the `!important` here to be able to override the default hidden behavior on the sphinx rendered scikit-learn.org. See: https://github.com/scikit-learn/scikit-learn/issues/21755 */display: inline-block !important;position: relative;}#sk-container-id-2 div.sk-text-repr-fallback {display: none;}</style><div id=\"sk-container-id-2\" class=\"sk-top-container\"><div class=\"sk-text-repr-fallback\"><pre>RandomForestRegressor(random_state=42)</pre><b>In a Jupyter environment, please rerun this cell to show the HTML representation or trust the notebook. <br />On GitHub, the HTML representation is unable to render, please try loading this page with nbviewer.org.</b></div><div class=\"sk-container\" hidden><div class=\"sk-item\"><div class=\"sk-estimator sk-toggleable\"><input class=\"sk-toggleable__control sk-hidden--visually\" id=\"sk-estimator-id-2\" type=\"checkbox\" checked><label for=\"sk-estimator-id-2\" class=\"sk-toggleable__label sk-toggleable__label-arrow\">RandomForestRegressor</label><div class=\"sk-toggleable__content\"><pre>RandomForestRegressor(random_state=42)</pre></div></div></div></div></div>"
            ]
          },
          "metadata": {},
          "execution_count": 28
        }
      ]
    },
    {
      "cell_type": "code",
      "source": [
        "# Make predictions on the test set using Random Forest model\n",
        "rf_y_pred = rf_model.predict(X_test_scaled)"
      ],
      "metadata": {
        "id": "6pWk3VavrW-q"
      },
      "execution_count": 29,
      "outputs": []
    },
    {
      "cell_type": "code",
      "source": [
        "df = pd.DataFrame({'Real':y_test, 'Predicted':rf_y_pred})\n",
        "df"
      ],
      "metadata": {
        "colab": {
          "base_uri": "https://localhost:8080/",
          "height": 1000
        },
        "id": "xyVNscXkr1s-",
        "outputId": "27eec8a4-3dd8-4920-82bd-d0f6ac6a9b49"
      },
      "execution_count": 30,
      "outputs": [
        {
          "output_type": "execute_result",
          "data": {
            "text/plain": [
              "       Real    Predicted\n",
              "78     78.0    89.400000\n",
              "155    13.4    11.361000\n",
              "128   200.0   306.760000\n",
              "55    270.0   276.170000\n",
              "94    150.0   138.670000\n",
              "29   1000.0   923.050000\n",
              "147     7.0     8.226000\n",
              "51    180.0   233.240000\n",
              "98    188.0   191.670000\n",
              "141  1250.0  1555.908333\n",
              "19    650.0   667.340000\n",
              "60   1000.0   897.450000\n",
              "15    600.0   596.970000\n",
              "65    150.0   108.640000\n",
              "24    700.0   672.490000\n",
              "30    920.0   953.950000\n",
              "126  1000.0   998.750000\n",
              "101   218.0   253.680000\n",
              "96    225.0   161.110000\n",
              "16    700.0   656.250000\n",
              "151    10.0    10.137000\n",
              "18    610.0   520.970000\n",
              "12    500.0   379.930000\n",
              "9     500.0   463.820000\n",
              "31    955.0   951.950000\n",
              "125  1100.0  1000.750000\n",
              "95    170.0   149.410000\n",
              "56    270.0   272.200000\n",
              "145     6.7     8.226000\n",
              "152     9.9    10.196000\n",
              "135   510.0   417.550000\n",
              "76     70.0    80.155000"
            ],
            "text/html": [
              "\n",
              "  <div id=\"df-7265fb0c-6f57-4129-babf-5a6ecd6e714a\">\n",
              "    <div class=\"colab-df-container\">\n",
              "      <div>\n",
              "<style scoped>\n",
              "    .dataframe tbody tr th:only-of-type {\n",
              "        vertical-align: middle;\n",
              "    }\n",
              "\n",
              "    .dataframe tbody tr th {\n",
              "        vertical-align: top;\n",
              "    }\n",
              "\n",
              "    .dataframe thead th {\n",
              "        text-align: right;\n",
              "    }\n",
              "</style>\n",
              "<table border=\"1\" class=\"dataframe\">\n",
              "  <thead>\n",
              "    <tr style=\"text-align: right;\">\n",
              "      <th></th>\n",
              "      <th>Real</th>\n",
              "      <th>Predicted</th>\n",
              "    </tr>\n",
              "  </thead>\n",
              "  <tbody>\n",
              "    <tr>\n",
              "      <th>78</th>\n",
              "      <td>78.0</td>\n",
              "      <td>89.400000</td>\n",
              "    </tr>\n",
              "    <tr>\n",
              "      <th>155</th>\n",
              "      <td>13.4</td>\n",
              "      <td>11.361000</td>\n",
              "    </tr>\n",
              "    <tr>\n",
              "      <th>128</th>\n",
              "      <td>200.0</td>\n",
              "      <td>306.760000</td>\n",
              "    </tr>\n",
              "    <tr>\n",
              "      <th>55</th>\n",
              "      <td>270.0</td>\n",
              "      <td>276.170000</td>\n",
              "    </tr>\n",
              "    <tr>\n",
              "      <th>94</th>\n",
              "      <td>150.0</td>\n",
              "      <td>138.670000</td>\n",
              "    </tr>\n",
              "    <tr>\n",
              "      <th>29</th>\n",
              "      <td>1000.0</td>\n",
              "      <td>923.050000</td>\n",
              "    </tr>\n",
              "    <tr>\n",
              "      <th>147</th>\n",
              "      <td>7.0</td>\n",
              "      <td>8.226000</td>\n",
              "    </tr>\n",
              "    <tr>\n",
              "      <th>51</th>\n",
              "      <td>180.0</td>\n",
              "      <td>233.240000</td>\n",
              "    </tr>\n",
              "    <tr>\n",
              "      <th>98</th>\n",
              "      <td>188.0</td>\n",
              "      <td>191.670000</td>\n",
              "    </tr>\n",
              "    <tr>\n",
              "      <th>141</th>\n",
              "      <td>1250.0</td>\n",
              "      <td>1555.908333</td>\n",
              "    </tr>\n",
              "    <tr>\n",
              "      <th>19</th>\n",
              "      <td>650.0</td>\n",
              "      <td>667.340000</td>\n",
              "    </tr>\n",
              "    <tr>\n",
              "      <th>60</th>\n",
              "      <td>1000.0</td>\n",
              "      <td>897.450000</td>\n",
              "    </tr>\n",
              "    <tr>\n",
              "      <th>15</th>\n",
              "      <td>600.0</td>\n",
              "      <td>596.970000</td>\n",
              "    </tr>\n",
              "    <tr>\n",
              "      <th>65</th>\n",
              "      <td>150.0</td>\n",
              "      <td>108.640000</td>\n",
              "    </tr>\n",
              "    <tr>\n",
              "      <th>24</th>\n",
              "      <td>700.0</td>\n",
              "      <td>672.490000</td>\n",
              "    </tr>\n",
              "    <tr>\n",
              "      <th>30</th>\n",
              "      <td>920.0</td>\n",
              "      <td>953.950000</td>\n",
              "    </tr>\n",
              "    <tr>\n",
              "      <th>126</th>\n",
              "      <td>1000.0</td>\n",
              "      <td>998.750000</td>\n",
              "    </tr>\n",
              "    <tr>\n",
              "      <th>101</th>\n",
              "      <td>218.0</td>\n",
              "      <td>253.680000</td>\n",
              "    </tr>\n",
              "    <tr>\n",
              "      <th>96</th>\n",
              "      <td>225.0</td>\n",
              "      <td>161.110000</td>\n",
              "    </tr>\n",
              "    <tr>\n",
              "      <th>16</th>\n",
              "      <td>700.0</td>\n",
              "      <td>656.250000</td>\n",
              "    </tr>\n",
              "    <tr>\n",
              "      <th>151</th>\n",
              "      <td>10.0</td>\n",
              "      <td>10.137000</td>\n",
              "    </tr>\n",
              "    <tr>\n",
              "      <th>18</th>\n",
              "      <td>610.0</td>\n",
              "      <td>520.970000</td>\n",
              "    </tr>\n",
              "    <tr>\n",
              "      <th>12</th>\n",
              "      <td>500.0</td>\n",
              "      <td>379.930000</td>\n",
              "    </tr>\n",
              "    <tr>\n",
              "      <th>9</th>\n",
              "      <td>500.0</td>\n",
              "      <td>463.820000</td>\n",
              "    </tr>\n",
              "    <tr>\n",
              "      <th>31</th>\n",
              "      <td>955.0</td>\n",
              "      <td>951.950000</td>\n",
              "    </tr>\n",
              "    <tr>\n",
              "      <th>125</th>\n",
              "      <td>1100.0</td>\n",
              "      <td>1000.750000</td>\n",
              "    </tr>\n",
              "    <tr>\n",
              "      <th>95</th>\n",
              "      <td>170.0</td>\n",
              "      <td>149.410000</td>\n",
              "    </tr>\n",
              "    <tr>\n",
              "      <th>56</th>\n",
              "      <td>270.0</td>\n",
              "      <td>272.200000</td>\n",
              "    </tr>\n",
              "    <tr>\n",
              "      <th>145</th>\n",
              "      <td>6.7</td>\n",
              "      <td>8.226000</td>\n",
              "    </tr>\n",
              "    <tr>\n",
              "      <th>152</th>\n",
              "      <td>9.9</td>\n",
              "      <td>10.196000</td>\n",
              "    </tr>\n",
              "    <tr>\n",
              "      <th>135</th>\n",
              "      <td>510.0</td>\n",
              "      <td>417.550000</td>\n",
              "    </tr>\n",
              "    <tr>\n",
              "      <th>76</th>\n",
              "      <td>70.0</td>\n",
              "      <td>80.155000</td>\n",
              "    </tr>\n",
              "  </tbody>\n",
              "</table>\n",
              "</div>\n",
              "      <button class=\"colab-df-convert\" onclick=\"convertToInteractive('df-7265fb0c-6f57-4129-babf-5a6ecd6e714a')\"\n",
              "              title=\"Convert this dataframe to an interactive table.\"\n",
              "              style=\"display:none;\">\n",
              "        \n",
              "  <svg xmlns=\"http://www.w3.org/2000/svg\" height=\"24px\"viewBox=\"0 0 24 24\"\n",
              "       width=\"24px\">\n",
              "    <path d=\"M0 0h24v24H0V0z\" fill=\"none\"/>\n",
              "    <path d=\"M18.56 5.44l.94 2.06.94-2.06 2.06-.94-2.06-.94-.94-2.06-.94 2.06-2.06.94zm-11 1L8.5 8.5l.94-2.06 2.06-.94-2.06-.94L8.5 2.5l-.94 2.06-2.06.94zm10 10l.94 2.06.94-2.06 2.06-.94-2.06-.94-.94-2.06-.94 2.06-2.06.94z\"/><path d=\"M17.41 7.96l-1.37-1.37c-.4-.4-.92-.59-1.43-.59-.52 0-1.04.2-1.43.59L10.3 9.45l-7.72 7.72c-.78.78-.78 2.05 0 2.83L4 21.41c.39.39.9.59 1.41.59.51 0 1.02-.2 1.41-.59l7.78-7.78 2.81-2.81c.8-.78.8-2.07 0-2.86zM5.41 20L4 18.59l7.72-7.72 1.47 1.35L5.41 20z\"/>\n",
              "  </svg>\n",
              "      </button>\n",
              "      \n",
              "  <style>\n",
              "    .colab-df-container {\n",
              "      display:flex;\n",
              "      flex-wrap:wrap;\n",
              "      gap: 12px;\n",
              "    }\n",
              "\n",
              "    .colab-df-convert {\n",
              "      background-color: #E8F0FE;\n",
              "      border: none;\n",
              "      border-radius: 50%;\n",
              "      cursor: pointer;\n",
              "      display: none;\n",
              "      fill: #1967D2;\n",
              "      height: 32px;\n",
              "      padding: 0 0 0 0;\n",
              "      width: 32px;\n",
              "    }\n",
              "\n",
              "    .colab-df-convert:hover {\n",
              "      background-color: #E2EBFA;\n",
              "      box-shadow: 0px 1px 2px rgba(60, 64, 67, 0.3), 0px 1px 3px 1px rgba(60, 64, 67, 0.15);\n",
              "      fill: #174EA6;\n",
              "    }\n",
              "\n",
              "    [theme=dark] .colab-df-convert {\n",
              "      background-color: #3B4455;\n",
              "      fill: #D2E3FC;\n",
              "    }\n",
              "\n",
              "    [theme=dark] .colab-df-convert:hover {\n",
              "      background-color: #434B5C;\n",
              "      box-shadow: 0px 1px 3px 1px rgba(0, 0, 0, 0.15);\n",
              "      filter: drop-shadow(0px 1px 2px rgba(0, 0, 0, 0.3));\n",
              "      fill: #FFFFFF;\n",
              "    }\n",
              "  </style>\n",
              "\n",
              "      <script>\n",
              "        const buttonEl =\n",
              "          document.querySelector('#df-7265fb0c-6f57-4129-babf-5a6ecd6e714a button.colab-df-convert');\n",
              "        buttonEl.style.display =\n",
              "          google.colab.kernel.accessAllowed ? 'block' : 'none';\n",
              "\n",
              "        async function convertToInteractive(key) {\n",
              "          const element = document.querySelector('#df-7265fb0c-6f57-4129-babf-5a6ecd6e714a');\n",
              "          const dataTable =\n",
              "            await google.colab.kernel.invokeFunction('convertToInteractive',\n",
              "                                                     [key], {});\n",
              "          if (!dataTable) return;\n",
              "\n",
              "          const docLinkHtml = 'Like what you see? Visit the ' +\n",
              "            '<a target=\"_blank\" href=https://colab.research.google.com/notebooks/data_table.ipynb>data table notebook</a>'\n",
              "            + ' to learn more about interactive tables.';\n",
              "          element.innerHTML = '';\n",
              "          dataTable['output_type'] = 'display_data';\n",
              "          await google.colab.output.renderOutput(dataTable, element);\n",
              "          const docLink = document.createElement('div');\n",
              "          docLink.innerHTML = docLinkHtml;\n",
              "          element.appendChild(docLink);\n",
              "        }\n",
              "      </script>\n",
              "    </div>\n",
              "  </div>\n",
              "  "
            ]
          },
          "metadata": {},
          "execution_count": 30
        }
      ]
    },
    {
      "cell_type": "code",
      "source": [
        "# Calculate evaluation metrics for Random Forest model\n",
        "rf_mae = mean_absolute_error(y_test, rf_y_pred)\n",
        "rf_mse = mean_squared_error(y_test, rf_y_pred)\n",
        "rf_rmse = np.sqrt(rf_mse)\n",
        "rf_r2 = r2_score(y_test, rf_y_pred)\n",
        "\n",
        "print(\"Mean Absolute Error (MAE):\", rf_mae)\n",
        "print(\"Mean Squared Error (MSE):\", rf_mse)\n",
        "print(\"Root Mean Squared Error (RMSE):\", rf_rmse)\n",
        "print(\"R-squared (R2) Score:\",rf_r2)"
      ],
      "metadata": {
        "colab": {
          "base_uri": "https://localhost:8080/"
        },
        "id": "e4_SDKi0ro3e",
        "outputId": "74d53266-83fb-4294-9652-5f4a9a7a4c8d"
      },
      "execution_count": 31,
      "outputs": [
        {
          "output_type": "stream",
          "name": "stdout",
          "text": [
            "Mean Absolute Error (MAE): 44.49804166666666\n",
            "Mean Squared Error (MSE): 5573.728655805551\n",
            "Root Mean Squared Error (RMSE): 74.65740857949432\n",
            "R-squared (R2) Score: 0.9608144220925796\n"
          ]
        }
      ]
    },
    {
      "cell_type": "code",
      "source": [
        "residuals = y_test - rf_y_pred\n",
        "sns.histplot(residuals, kde=True)\n",
        "plt.xlabel('Residuals')\n",
        "plt.ylabel('Frequency')\n",
        "plt.title('Distribution of Residuals for RF Model')\n",
        "plt.show()"
      ],
      "metadata": {
        "colab": {
          "base_uri": "https://localhost:8080/",
          "height": 472
        },
        "id": "GxQp6wAVuAk-",
        "outputId": "ef380dcb-997f-4b42-c81d-8602ff2f7e91"
      },
      "execution_count": 32,
      "outputs": [
        {
          "output_type": "display_data",
          "data": {
            "text/plain": [
              "<Figure size 640x480 with 1 Axes>"
            ],
            "image/png": "[encoded data removed]"
          },
          "metadata": {}
        }
      ]
    },
    {
      "cell_type": "code",
      "source": [
        "plt.scatter(y_test, rf_y_pred)\n",
        "plt.plot([min(y_test), max(y_test)], [min(y_test), max(y_test)], 'k--', color='black')\n",
        "plt.xlabel('Actual Weight')\n",
        "plt.ylabel('Predicted Weight')\n",
        "plt.title('RF Model Actual vs. Predicted Weight')\n",
        "plt.show()"
      ],
      "metadata": {
        "colab": {
          "base_uri": "https://localhost:8080/",
          "height": 527
        },
        "id": "8jphqaJeuqMb",
        "outputId": "f360b889-582d-4c08-fd81-606f826d6e23"
      },
      "execution_count": 33,
      "outputs": [
        {
          "output_type": "stream",
          "name": "stderr",
          "text": [
            "<ipython-input-33-123dad1fa5df>:2: UserWarning: color is redundantly defined by the 'color' keyword argument and the fmt string \"k--\" (-> color='k'). The keyword argument will take precedence.\n",
            "  plt.plot([min(y_test), max(y_test)], [min(y_test), max(y_test)], 'k--', color='black')\n"
          ]
        },
        {
          "output_type": "display_data",
          "data": {
            "text/plain": [
              "<Figure size 640x480 with 1 Axes>"
            ],
            "image/png": "[encoded data removed]"
          },
          "metadata": {}
        }
      ]
    },
    {
      "cell_type": "code",
      "source": [],
      "metadata": {
        "id": "s6KbHNQqvA7_"
      },
      "execution_count": 33,
      "outputs": []
    },
    {
      "cell_type": "markdown",
      "source": [
        "**Linear Regression Model**"
      ],
      "metadata": {
        "id": "3fZ018zktVgw"
      }
    },
    {
      "cell_type": "code",
      "source": [
        "from sklearn.linear_model import LinearRegression\n",
        "\n",
        "# Build a Linear Regression model\n",
        "lr_model = LinearRegression()\n",
        "lr_model.fit(X_train_scaled, y_train)"
      ],
      "metadata": {
        "colab": {
          "base_uri": "https://localhost:8080/",
          "height": 74
        },
        "id": "9sbkRg2BtaNW",
        "outputId": "c2700802-a204-43e8-aac8-b0000889a1ed"
      },
      "execution_count": 34,
      "outputs": [
        {
          "output_type": "execute_result",
          "data": {
            "text/plain": [
              "LinearRegression()"
            ],
            "text/html": [
              "<style>#sk-container-id-3 {color: black;background-color: white;}#sk-container-id-3 pre{padding: 0;}#sk-container-id-3 div.sk-toggleable {background-color: white;}#sk-container-id-3 label.sk-toggleable__label {cursor: pointer;display: block;width: 100%;margin-bottom: 0;padding: 0.3em;box-sizing: border-box;text-align: center;}#sk-container-id-3 label.sk-toggleable__label-arrow:before {content: \"▸\";float: left;margin-right: 0.25em;color: #696969;}#sk-container-id-3 label.sk-toggleable__label-arrow:hover:before {color: black;}#sk-container-id-3 div.sk-estimator:hover label.sk-toggleable__label-arrow:before {color: black;}#sk-container-id-3 div.sk-toggleable__content {max-height: 0;max-width: 0;overflow: hidden;text-align: left;background-color: #f0f8ff;}#sk-container-id-3 div.sk-toggleable__content pre {margin: 0.2em;color: black;border-radius: 0.25em;background-color: #f0f8ff;}#sk-container-id-3 input.sk-toggleable__control:checked~div.sk-toggleable__content {max-height: 200px;max-width: 100%;overflow: auto;}#sk-container-id-3 input.sk-toggleable__control:checked~label.sk-toggleable__label-arrow:before {content: \"▾\";}#sk-container-id-3 div.sk-estimator input.sk-toggleable__control:checked~label.sk-toggleable__label {background-color: #d4ebff;}#sk-container-id-3 div.sk-label input.sk-toggleable__control:checked~label.sk-toggleable__label {background-color: #d4ebff;}#sk-container-id-3 input.sk-hidden--visually {border: 0;clip: rect(1px 1px 1px 1px);clip: rect(1px, 1px, 1px, 1px);height: 1px;margin: -1px;overflow: hidden;padding: 0;position: absolute;width: 1px;}#sk-container-id-3 div.sk-estimator {font-family: monospace;background-color: #f0f8ff;border: 1px dotted black;border-radius: 0.25em;box-sizing: border-box;margin-bottom: 0.5em;}#sk-container-id-3 div.sk-estimator:hover {background-color: #d4ebff;}#sk-container-id-3 div.sk-parallel-item::after {content: \"\";width: 100%;border-bottom: 1px solid gray;flex-grow: 1;}#sk-container-id-3 div.sk-label:hover label.sk-toggleable__label {background-color: #d4ebff;}#sk-container-id-3 div.sk-serial::before {content: \"\";position: absolute;border-left: 1px solid gray;box-sizing: border-box;top: 0;bottom: 0;left: 50%;z-index: 0;}#sk-container-id-3 div.sk-serial {display: flex;flex-direction: column;align-items: center;background-color: white;padding-right: 0.2em;padding-left: 0.2em;position: relative;}#sk-container-id-3 div.sk-item {position: relative;z-index: 1;}#sk-container-id-3 div.sk-parallel {display: flex;align-items: stretch;justify-content: center;background-color: white;position: relative;}#sk-container-id-3 div.sk-item::before, #sk-container-id-3 div.sk-parallel-item::before {content: \"\";position: absolute;border-left: 1px solid gray;box-sizing: border-box;top: 0;bottom: 0;left: 50%;z-index: -1;}#sk-container-id-3 div.sk-parallel-item {display: flex;flex-direction: column;z-index: 1;position: relative;background-color: white;}#sk-container-id-3 div.sk-parallel-item:first-child::after {align-self: flex-end;width: 50%;}#sk-container-id-3 div.sk-parallel-item:last-child::after {align-self: flex-start;width: 50%;}#sk-container-id-3 div.sk-parallel-item:only-child::after {width: 0;}#sk-container-id-3 div.sk-dashed-wrapped {border: 1px dashed gray;margin: 0 0.4em 0.5em 0.4em;box-sizing: border-box;padding-bottom: 0.4em;background-color: white;}#sk-container-id-3 div.sk-label label {font-family: monospace;font-weight: bold;display: inline-block;line-height: 1.2em;}#sk-container-id-3 div.sk-label-container {text-align: center;}#sk-container-id-3 div.sk-container {/* jupyter's `normalize.less` sets `[hidden] { display: none; }` but bootstrap.min.css set `[hidden] { display: none !important; }` so we also need the `!important` here to be able to override the default hidden behavior on the sphinx rendered scikit-learn.org. See: https://github.com/scikit-learn/scikit-learn/issues/21755 */display: inline-block !important;position: relative;}#sk-container-id-3 div.sk-text-repr-fallback {display: none;}</style><div id=\"sk-container-id-3\" class=\"sk-top-container\"><div class=\"sk-text-repr-fallback\"><pre>LinearRegression()</pre><b>In a Jupyter environment, please rerun this cell to show the HTML representation or trust the notebook. <br />On GitHub, the HTML representation is unable to render, please try loading this page with nbviewer.org.</b></div><div class=\"sk-container\" hidden><div class=\"sk-item\"><div class=\"sk-estimator sk-toggleable\"><input class=\"sk-toggleable__control sk-hidden--visually\" id=\"sk-estimator-id-3\" type=\"checkbox\" checked><label for=\"sk-estimator-id-3\" class=\"sk-toggleable__label sk-toggleable__label-arrow\">LinearRegression</label><div class=\"sk-toggleable__content\"><pre>LinearRegression()</pre></div></div></div></div></div>"
            ]
          },
          "metadata": {},
          "execution_count": 34
        }
      ]
    },
    {
      "cell_type": "code",
      "source": [
        "# Make predictions on the test set using Linear Regression model\n",
        "lr_y_pred = lr_model.predict(X_test_scaled)"
      ],
      "metadata": {
        "id": "7H7QMkZ5tdrn"
      },
      "execution_count": 35,
      "outputs": []
    },
    {
      "cell_type": "code",
      "source": [
        "df = pd.DataFrame({'Real':y_test, 'Predicted':lr_y_pred})\n",
        "df"
      ],
      "metadata": {
        "colab": {
          "base_uri": "https://localhost:8080/",
          "height": 1000
        },
        "id": "dzNy8ARQtiSI",
        "outputId": "56c1f731-ce16-477d-d574-61ac3e75de77"
      },
      "execution_count": 36,
      "outputs": [
        {
          "output_type": "execute_result",
          "data": {
            "text/plain": [
              "       Real    Predicted\n",
              "78     78.0    62.373863\n",
              "155    13.4  -180.411377\n",
              "128   200.0   386.885877\n",
              "55    270.0   325.423377\n",
              "94    150.0   197.318826\n",
              "29   1000.0   769.134371\n",
              "147     7.0  -227.027368\n",
              "51    180.0   285.605085\n",
              "98    188.0   268.387362\n",
              "141  1250.0  1127.061612\n",
              "19    650.0   628.927875\n",
              "60   1000.0   775.040896\n",
              "15    600.0   590.271031\n",
              "65    150.0   137.308891\n",
              "24    700.0   657.603979\n",
              "30    920.0   778.592775\n",
              "126  1000.0   931.660397\n",
              "101   218.0   303.353095\n",
              "96    225.0   225.850419\n",
              "16    700.0   592.239554\n",
              "151    10.0  -187.651715\n",
              "18    610.0   589.062715\n",
              "12    500.0   492.757074\n",
              "9     500.0   528.181064\n",
              "31    955.0   775.704051\n",
              "125  1100.0   873.825888\n",
              "95    170.0   214.928844\n",
              "56    270.0   337.217398\n",
              "145     6.7  -249.626613\n",
              "152     9.9  -195.412134\n",
              "135   510.0   673.186678\n",
              "76     70.0    31.787006"
            ],
            "text/html": [
              "\n",
              "  <div id=\"df-7f5a30dc-57d3-4eb8-82aa-cbadaf195c06\">\n",
              "    <div class=\"colab-df-container\">\n",
              "      <div>\n",
              "<style scoped>\n",
              "    .dataframe tbody tr th:only-of-type {\n",
              "        vertical-align: middle;\n",
              "    }\n",
              "\n",
              "    .dataframe tbody tr th {\n",
              "        vertical-align: top;\n",
              "    }\n",
              "\n",
              "    .dataframe thead th {\n",
              "        text-align: right;\n",
              "    }\n",
              "</style>\n",
              "<table border=\"1\" class=\"dataframe\">\n",
              "  <thead>\n",
              "    <tr style=\"text-align: right;\">\n",
              "      <th></th>\n",
              "      <th>Real</th>\n",
              "      <th>Predicted</th>\n",
              "    </tr>\n",
              "  </thead>\n",
              "  <tbody>\n",
              "    <tr>\n",
              "      <th>78</th>\n",
              "      <td>78.0</td>\n",
              "      <td>62.373863</td>\n",
              "    </tr>\n",
              "    <tr>\n",
              "      <th>155</th>\n",
              "      <td>13.4</td>\n",
              "      <td>-180.411377</td>\n",
              "    </tr>\n",
              "    <tr>\n",
              "      <th>128</th>\n",
              "      <td>200.0</td>\n",
              "      <td>386.885877</td>\n",
              "    </tr>\n",
              "    <tr>\n",
              "      <th>55</th>\n",
              "      <td>270.0</td>\n",
              "      <td>325.423377</td>\n",
              "    </tr>\n",
              "    <tr>\n",
              "      <th>94</th>\n",
              "      <td>150.0</td>\n",
              "      <td>197.318826</td>\n",
              "    </tr>\n",
              "    <tr>\n",
              "      <th>29</th>\n",
              "      <td>1000.0</td>\n",
              "      <td>769.134371</td>\n",
              "    </tr>\n",
              "    <tr>\n",
              "      <th>147</th>\n",
              "      <td>7.0</td>\n",
              "      <td>-227.027368</td>\n",
              "    </tr>\n",
              "    <tr>\n",
              "      <th>51</th>\n",
              "      <td>180.0</td>\n",
              "      <td>285.605085</td>\n",
              "    </tr>\n",
              "    <tr>\n",
              "      <th>98</th>\n",
              "      <td>188.0</td>\n",
              "      <td>268.387362</td>\n",
              "    </tr>\n",
              "    <tr>\n",
              "      <th>141</th>\n",
              "      <td>1250.0</td>\n",
              "      <td>1127.061612</td>\n",
              "    </tr>\n",
              "    <tr>\n",
              "      <th>19</th>\n",
              "      <td>650.0</td>\n",
              "      <td>628.927875</td>\n",
              "    </tr>\n",
              "    <tr>\n",
              "      <th>60</th>\n",
              "      <td>1000.0</td>\n",
              "      <td>775.040896</td>\n",
              "    </tr>\n",
              "    <tr>\n",
              "      <th>15</th>\n",
              "      <td>600.0</td>\n",
              "      <td>590.271031</td>\n",
              "    </tr>\n",
              "    <tr>\n",
              "      <th>65</th>\n",
              "      <td>150.0</td>\n",
              "      <td>137.308891</td>\n",
              "    </tr>\n",
              "    <tr>\n",
              "      <th>24</th>\n",
              "      <td>700.0</td>\n",
              "      <td>657.603979</td>\n",
              "    </tr>\n",
              "    <tr>\n",
              "      <th>30</th>\n",
              "      <td>920.0</td>\n",
              "      <td>778.592775</td>\n",
              "    </tr>\n",
              "    <tr>\n",
              "      <th>126</th>\n",
              "      <td>1000.0</td>\n",
              "      <td>931.660397</td>\n",
              "    </tr>\n",
              "    <tr>\n",
              "      <th>101</th>\n",
              "      <td>218.0</td>\n",
              "      <td>303.353095</td>\n",
              "    </tr>\n",
              "    <tr>\n",
              "      <th>96</th>\n",
              "      <td>225.0</td>\n",
              "      <td>225.850419</td>\n",
              "    </tr>\n",
              "    <tr>\n",
              "      <th>16</th>\n",
              "      <td>700.0</td>\n",
              "      <td>592.239554</td>\n",
              "    </tr>\n",
              "    <tr>\n",
              "      <th>151</th>\n",
              "      <td>10.0</td>\n",
              "      <td>-187.651715</td>\n",
              "    </tr>\n",
              "    <tr>\n",
              "      <th>18</th>\n",
              "      <td>610.0</td>\n",
              "      <td>589.062715</td>\n",
              "    </tr>\n",
              "    <tr>\n",
              "      <th>12</th>\n",
              "      <td>500.0</td>\n",
              "      <td>492.757074</td>\n",
              "    </tr>\n",
              "    <tr>\n",
              "      <th>9</th>\n",
              "      <td>500.0</td>\n",
              "      <td>528.181064</td>\n",
              "    </tr>\n",
              "    <tr>\n",
              "      <th>31</th>\n",
              "      <td>955.0</td>\n",
              "      <td>775.704051</td>\n",
              "    </tr>\n",
              "    <tr>\n",
              "      <th>125</th>\n",
              "      <td>1100.0</td>\n",
              "      <td>873.825888</td>\n",
              "    </tr>\n",
              "    <tr>\n",
              "      <th>95</th>\n",
              "      <td>170.0</td>\n",
              "      <td>214.928844</td>\n",
              "    </tr>\n",
              "    <tr>\n",
              "      <th>56</th>\n",
              "      <td>270.0</td>\n",
              "      <td>337.217398</td>\n",
              "    </tr>\n",
              "    <tr>\n",
              "      <th>145</th>\n",
              "      <td>6.7</td>\n",
              "      <td>-249.626613</td>\n",
              "    </tr>\n",
              "    <tr>\n",
              "      <th>152</th>\n",
              "      <td>9.9</td>\n",
              "      <td>-195.412134</td>\n",
              "    </tr>\n",
              "    <tr>\n",
              "      <th>135</th>\n",
              "      <td>510.0</td>\n",
              "      <td>673.186678</td>\n",
              "    </tr>\n",
              "    <tr>\n",
              "      <th>76</th>\n",
              "      <td>70.0</td>\n",
              "      <td>31.787006</td>\n",
              "    </tr>\n",
              "  </tbody>\n",
              "</table>\n",
              "</div>\n",
              "      <button class=\"colab-df-convert\" onclick=\"convertToInteractive('df-7f5a30dc-57d3-4eb8-82aa-cbadaf195c06')\"\n",
              "              title=\"Convert this dataframe to an interactive table.\"\n",
              "              style=\"display:none;\">\n",
              "        \n",
              "  <svg xmlns=\"http://www.w3.org/2000/svg\" height=\"24px\"viewBox=\"0 0 24 24\"\n",
              "       width=\"24px\">\n",
              "    <path d=\"M0 0h24v24H0V0z\" fill=\"none\"/>\n",
              "    <path d=\"M18.56 5.44l.94 2.06.94-2.06 2.06-.94-2.06-.94-.94-2.06-.94 2.06-2.06.94zm-11 1L8.5 8.5l.94-2.06 2.06-.94-2.06-.94L8.5 2.5l-.94 2.06-2.06.94zm10 10l.94 2.06.94-2.06 2.06-.94-2.06-.94-.94-2.06-.94 2.06-2.06.94z\"/><path d=\"M17.41 7.96l-1.37-1.37c-.4-.4-.92-.59-1.43-.59-.52 0-1.04.2-1.43.59L10.3 9.45l-7.72 7.72c-.78.78-.78 2.05 0 2.83L4 21.41c.39.39.9.59 1.41.59.51 0 1.02-.2 1.41-.59l7.78-7.78 2.81-2.81c.8-.78.8-2.07 0-2.86zM5.41 20L4 18.59l7.72-7.72 1.47 1.35L5.41 20z\"/>\n",
              "  </svg>\n",
              "      </button>\n",
              "      \n",
              "  <style>\n",
              "    .colab-df-container {\n",
              "      display:flex;\n",
              "      flex-wrap:wrap;\n",
              "      gap: 12px;\n",
              "    }\n",
              "\n",
              "    .colab-df-convert {\n",
              "      background-color: #E8F0FE;\n",
              "      border: none;\n",
              "      border-radius: 50%;\n",
              "      cursor: pointer;\n",
              "      display: none;\n",
              "      fill: #1967D2;\n",
              "      height: 32px;\n",
              "      padding: 0 0 0 0;\n",
              "      width: 32px;\n",
              "    }\n",
              "\n",
              "    .colab-df-convert:hover {\n",
              "      background-color: #E2EBFA;\n",
              "      box-shadow: 0px 1px 2px rgba(60, 64, 67, 0.3), 0px 1px 3px 1px rgba(60, 64, 67, 0.15);\n",
              "      fill: #174EA6;\n",
              "    }\n",
              "\n",
              "    [theme=dark] .colab-df-convert {\n",
              "      background-color: #3B4455;\n",
              "      fill: #D2E3FC;\n",
              "    }\n",
              "\n",
              "    [theme=dark] .colab-df-convert:hover {\n",
              "      background-color: #434B5C;\n",
              "      box-shadow: 0px 1px 3px 1px rgba(0, 0, 0, 0.15);\n",
              "      filter: drop-shadow(0px 1px 2px rgba(0, 0, 0, 0.3));\n",
              "      fill: #FFFFFF;\n",
              "    }\n",
              "  </style>\n",
              "\n",
              "      <script>\n",
              "        const buttonEl =\n",
              "          document.querySelector('#df-7f5a30dc-57d3-4eb8-82aa-cbadaf195c06 button.colab-df-convert');\n",
              "        buttonEl.style.display =\n",
              "          google.colab.kernel.accessAllowed ? 'block' : 'none';\n",
              "\n",
              "        async function convertToInteractive(key) {\n",
              "          const element = document.querySelector('#df-7f5a30dc-57d3-4eb8-82aa-cbadaf195c06');\n",
              "          const dataTable =\n",
              "            await google.colab.kernel.invokeFunction('convertToInteractive',\n",
              "                                                     [key], {});\n",
              "          if (!dataTable) return;\n",
              "\n",
              "          const docLinkHtml = 'Like what you see? Visit the ' +\n",
              "            '<a target=\"_blank\" href=https://colab.research.google.com/notebooks/data_table.ipynb>data table notebook</a>'\n",
              "            + ' to learn more about interactive tables.';\n",
              "          element.innerHTML = '';\n",
              "          dataTable['output_type'] = 'display_data';\n",
              "          await google.colab.output.renderOutput(dataTable, element);\n",
              "          const docLink = document.createElement('div');\n",
              "          docLink.innerHTML = docLinkHtml;\n",
              "          element.appendChild(docLink);\n",
              "        }\n",
              "      </script>\n",
              "    </div>\n",
              "  </div>\n",
              "  "
            ]
          },
          "metadata": {},
          "execution_count": 36
        }
      ]
    },
    {
      "cell_type": "code",
      "source": [
        "# Calculate evaluation metrics for Linear Regression model\n",
        "lr_mae = mean_absolute_error(y_test, lr_y_pred)\n",
        "lr_mse = mean_squared_error(y_test, lr_y_pred)\n",
        "lr_rmse = np.sqrt(lr_mse)\n",
        "lr_r2 = r2_score(y_test, lr_y_pred)\n",
        "\n",
        "print(\"Mean Absolute Error (MAE):\", lr_mae)\n",
        "print(\"Mean Squared Error (MSE):\", lr_mse)\n",
        "print(\"Root Mean Squared Error (RMSE):\", lr_rmse)\n",
        "print(\"R-squared (R2) Score:\", lr_r2)\n"
      ],
      "metadata": {
        "colab": {
          "base_uri": "https://localhost:8080/"
        },
        "id": "FaB3z97UtmqW",
        "outputId": "42604782-35c4-48b2-ec07-67e2acdf0293"
      },
      "execution_count": 37,
      "outputs": [
        {
          "output_type": "stream",
          "name": "stdout",
          "text": [
            "Mean Absolute Error (MAE): 106.94110171832082\n",
            "Mean Squared Error (MSE): 18176.402480858458\n",
            "Root Mean Squared Error (RMSE): 134.81988904037289\n",
            "R-squared (R2) Score: 0.8722125027115497\n"
          ]
        }
      ]
    },
    {
      "cell_type": "code",
      "source": [
        "residuals = y_test - lr_y_pred\n",
        "sns.histplot(residuals, kde=True)\n",
        "plt.xlabel('Residuals')\n",
        "plt.ylabel('Frequency')\n",
        "plt.title('Distribution of Residuals for Linear Regression')\n",
        "plt.show()"
      ],
      "metadata": {
        "colab": {
          "base_uri": "https://localhost:8080/",
          "height": 472
        },
        "id": "OGWkrTI2uRJY",
        "outputId": "7aad6b95-b0c6-45f7-989c-3a7c0ec7ef5c"
      },
      "execution_count": 38,
      "outputs": [
        {
          "output_type": "display_data",
          "data": {
            "text/plain": [
              "<Figure size 640x480 with 1 Axes>"
            ],
            "image/png": "[encoded data removed]"
          },
          "metadata": {}
        }
      ]
    },
    {
      "cell_type": "code",
      "source": [
        "# Create a scatter plot of predicted vs actual values\n",
        "plt.figure(figsize=(8, 6))\n",
        "plt.scatter(y_test, lr_y_pred)\n",
        "plt.plot([min(y_test), max(y_test)], [min(y_test), max(y_test)], 'k--', lw=2)\n",
        "plt.xlabel('Actual Weight')\n",
        "plt.ylabel('Predicted Weight')\n",
        "plt.title('Linear Regression - Actual vs Predicted')\n",
        "plt.show()"
      ],
      "metadata": {
        "colab": {
          "base_uri": "https://localhost:8080/",
          "height": 564
        },
        "id": "KPMUxzq9uYm-",
        "outputId": "833c8978-14e0-4b65-8d67-ac545bfca46b"
      },
      "execution_count": 39,
      "outputs": [
        {
          "output_type": "display_data",
          "data": {
            "text/plain": [
              "<Figure size 800x600 with 1 Axes>"
            ],
            "image/png": "[encoded data removed]"
          },
          "metadata": {}
        }
      ]
    },
    {
      "cell_type": "markdown",
      "source": [
        "**Comparions of ML Models**"
      ],
      "metadata": {
        "id": "JkHsINOKwAIg"
      }
    },
    {
      "cell_type": "code",
      "source": [
        "# Create a bar plot to compare RMSE for the models\n",
        "metrics = {'RMSE':[dt_rmse,rf_rmse,lr_rmse]}\n",
        "score=pd.DataFrame(metrics,index=['Decision Tree','Random Forest','Linear Regression'])\n",
        "plot=score.plot.bar()"
      ],
      "metadata": {
        "colab": {
          "base_uri": "https://localhost:8080/",
          "height": 541
        },
        "id": "gEvC6h3Ov-YA",
        "outputId": "a87c239e-3a47-45a5-dc5a-fb16027f831b"
      },
      "execution_count": 95,
      "outputs": [
        {
          "output_type": "display_data",
          "data": {
            "text/plain": [
              "<Figure size 640x480 with 1 Axes>"
            ],
            "image/png": "[encoded data removed]"
          },
          "metadata": {}
        }
      ]
    },
    {
      "cell_type": "code",
      "source": [
        "# Create a bar plot to compare R2 score for the models\n",
        "metrics = {'R2':[dt_r2,rf_r2,lr_r2]}\n",
        "score=pd.DataFrame(metrics,index=['Decision Tree','Random Forest','Linear Regression'])\n",
        "plot=score.plot.bar()"
      ],
      "metadata": {
        "colab": {
          "base_uri": "https://localhost:8080/",
          "height": 541
        },
        "id": "tKGFepU-1If-",
        "outputId": "0a5f5b7f-1e1c-4e8d-c5ac-1e6c98a2eb9b"
      },
      "execution_count": 96,
      "outputs": [
        {
          "output_type": "display_data",
          "data": {
            "text/plain": [
              "<Figure size 640x480 with 1 Axes>"
            ],
            "image/png": "[encoded data removed]"
          },
          "metadata": {}
        }
      ]
    },
    {
      "cell_type": "markdown",
      "source": [
        "**------END-------**"
      ],
      "metadata": {
        "id": "QEzwC9dQGes0"
      }
    }
  ]
}